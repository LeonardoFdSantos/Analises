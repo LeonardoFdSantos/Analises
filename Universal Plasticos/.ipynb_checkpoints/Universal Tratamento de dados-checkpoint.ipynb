{
 "cells": [
  {
   "cell_type": "code",
   "execution_count": 1,
   "metadata": {},
   "outputs": [],
   "source": [
    "import pandas as pd\n",
    "from pandas import ExcelWriter\n",
    "from pandas import ExcelFile\n",
    "import numpy as np\n",
    "import matplotlib.pyplot as plt\n",
    "import math as mt\n",
    "import tensorflow as tf\n",
    "fp_padrao = 0.92\n",
    "fp_padrao_Sup = 2-fp_padrao"
   ]
  },
  {
   "cell_type": "code",
   "execution_count": 10,
   "metadata": {},
   "outputs": [],
   "source": [
    "def normaliza(s):\n",
    "    if s >= 0:\n",
    "       return s\n",
    "    elif s < 0 :\n",
    "       return s + 2\n",
    "\n",
    "universal01_dataset = pd.read_excel('universal.xlsx', 'Universal_01')\n",
    "universal02_dataset = pd.read_excel('universal.xlsx', 'Universal_02')\n",
    "univ01 = universal01_dataset\n",
    "univ02 = universal02_dataset\n",
    "\n",
    "Universal = pd.concat([univ02,univ01])\n",
    "\n",
    "Universal.drop(columns=['Freqüência', 'Ocorrência'],inplace=True)\n",
    "\n",
    "Universal.rename(columns ={'Fat,Pot T': 'FP T', \n",
    "                            'Fat,Pot, R': 'FP R',\n",
    "                            'Fat,Pot, S': 'FP S'}, inplace=True)\n",
    "Universal_p = Universal\n",
    "\n",
    "Universal_p['Pot R KVA'] = (Universal_p['Corrente R'] * Universal_p['Tensão R'] * (mt.sqrt(3)))/1000\n",
    "Universal_p['Pot S KVA'] = (Universal_p['Corrente S'] * Universal_p['Tensão S'] * (mt.sqrt(3)))/1000\n",
    "Universal_p['Pot T KVA'] = (Universal_p['Corrente T'] * Universal_p['Tensão T'] * (mt.sqrt(3)))/1000\n",
    "\n",
    "#Calculo KVAr usando numpy\n",
    "Universal_p['Pot R KW'] = (Universal_p['Pot R KVA'] * (Universal_p['FP R']))\n",
    "Universal_p['Pot S KW'] = (Universal_p['Pot S KVA'] * (Universal_p['FP S']))\n",
    "Universal_p['Pot T KW'] = (Universal_p['Pot T KVA'] * (Universal_p['FP T']))\n",
    "\n",
    "#Calculo KVAr usando numpy\n",
    "Universal_p['Pot R KVAr'] = np.sqrt(np.power(Universal_p['Pot R KVA'],2) - np.power(Universal_p['Pot R KW'],2))\n",
    "Universal_p['Pot S KVAr'] = np.sqrt(np.power(Universal_p['Pot S KVA'],2) - np.power(Universal_p['Pot S KW'],2))\n",
    "Universal_p['Pot T KVAr'] = np.sqrt(np.power(Universal_p['Pot T KVA'],2) - np.power(Universal_p['Pot T KW'],2))\n",
    "\n",
    "#Calculo Faltante Kvar\n",
    "Universal_p['Pot R KVAr faltante'] = (Universal_p['Pot R KVAr']) - (np.sqrt(np.power(Universal_p['Pot R KVA'],2)-\n",
    "                                                                      (np.power((Universal_p['Pot R KVA'] * (fp_padrao)),2))))\n",
    "Universal_p['Pot S KVAr faltante'] = (Universal_p['Pot S KVAr']) - (np.sqrt(np.power(Universal_p['Pot S KVA'],2)-\n",
    "                                                                      (np.power((Universal_p['Pot S KVA'] * (fp_padrao)),2))))\n",
    "Universal_p['Pot T KVAr faltante'] = (Universal_p['Pot T KVAr']) - (np.sqrt(np.power(Universal_p['Pot T KVA'],2)-\n",
    "                                                                      (np.power((Universal_p['Pot T KVA'] * (fp_padrao)),2))))\n",
    "\n",
    "Universal[\"FP R\"] = Universal[\"FP R\"].apply(normaliza)\n",
    "Universal[\"FP S\"] = Universal[\"FP S\"].apply(normaliza)\n",
    "Universal[\"FP T\"] = Universal[\"FP T\"].apply(normaliza)\n",
    "\n",
    "Universal_p[\"FP R\"] = Universal_p[\"FP R\"].apply(normaliza)\n",
    "Universal_p[\"FP S\"] = Universal_p[\"FP S\"].apply(normaliza)\n",
    "Universal_p[\"FP T\"] = Universal_p[\"FP T\"].apply(normaliza)\n",
    "\n",
    "fpfases_abaixo = Universal_p.loc[((Universal[\"FP R\"]< fp_padrao) | (Universal[\"FP R\"]> fp_padrao_Sup))\n",
    "                         | ((Universal[\"FP S\"]< fp_padrao) | (Universal[\"FP S\"]> fp_padrao_Sup))\n",
    "                         | ((Universal[\"FP T\"]< fp_padrao) | (Universal[\"FP T\"]> fp_padrao_Sup))]\n",
    "\n",
    "fpfases = Universal_p.loc[((Universal_p[\"FP R\"]< fp_padrao) | (Universal_p[\"FP R\"]> fp_padrao_Sup))\n",
    "                         | ((Universal_p[\"FP S\"]< fp_padrao) | (Universal_p[\"FP S\"]> fp_padrao_Sup))\n",
    "                         | ((Universal_p[\"FP T\"]< fp_padrao) | (Universal_p[\"FP T\"]> fp_padrao_Sup))]\n",
    "\n",
    "maximoR = fpfases['Pot R KVAr faltante'].max()\n",
    "maximoS = fpfases['Pot S KVAr faltante'].max()\n",
    "maximoT = fpfases['Pot T KVAr faltante'].max()"
   ]
  },
  {
   "cell_type": "code",
   "execution_count": 11,
   "metadata": {},
   "outputs": [],
   "source": [
    "Valores_ComparacaoR = fpfases[(fpfases['FP R'] > fpfases['FP T'] ) & (fpfases['FP R'] > fpfases['FP T'])]\n",
    "Valores_ComparacaoS = fpfases[(fpfases['FP S'] > fpfases['FP T'] ) & (fpfases['FP S'] > fpfases['FP T'])]\n",
    "Valores_ComparacaoT = fpfases[(fpfases['FP T'] > fpfases['FP R'] ) & (fpfases['FP T'] > fpfases['FP S'])]"
   ]
  },
  {
   "cell_type": "code",
   "execution_count": 12,
   "metadata": {},
   "outputs": [],
   "source": [
    "Universal_p.round(5).to_csv('Universal Leituras.csv')\n",
    "fpfases.round(5).to_csv('Universal FP FORAS.csv')"
   ]
  },
  {
   "cell_type": "code",
   "execution_count": null,
   "metadata": {},
   "outputs": [],
   "source": [
    "!conda install bokeh"
   ]
  },
  {
   "cell_type": "code",
   "execution_count": null,
   "metadata": {},
   "outputs": [],
   "source": [
    "from bokeh.plotting import figure, output_notebook, show\n",
    "#Output para notebook\n",
    "output_notebook()"
   ]
  },
  {
   "cell_type": "code",
   "execution_count": null,
   "metadata": {},
   "outputs": [],
   "source": [
    "p = figure(plot_width=1000, plot_height=800)\n",
    "\n",
    "#Adiciona quadrado com tamanho, cor, e alpha\n",
    "p.line(Universal_p['Data'], Universal_p['FP R'], line_width=1,color='navy') #adicionou uma linha de plotagem à figura existente\n",
    "p.line(Universal_p['Data'], Universal_p['FP S'], line_width=1,color='red')\n",
    "p.line(Universal_p['Data'], Universal_p['FP T'], line_width=1,color='green')\n",
    "\n",
    "#Mostra os resultados\n",
    "show(p)"
   ]
  },
  {
   "cell_type": "code",
   "execution_count": null,
   "metadata": {},
   "outputs": [],
   "source": []
  }
 ],
 "metadata": {
  "kernelspec": {
   "display_name": "Python 3",
   "language": "python",
   "name": "python3"
  },
  "language_info": {
   "codemirror_mode": {
    "name": "ipython",
    "version": 3
   },
   "file_extension": ".py",
   "mimetype": "text/x-python",
   "name": "python",
   "nbconvert_exporter": "python",
   "pygments_lexer": "ipython3",
   "version": "3.7.4"
  },
  "pycharm": {
   "stem_cell": {
    "cell_type": "raw",
    "metadata": {
     "collapsed": false
    },
    "source": []
   }
  }
 },
 "nbformat": 4,
 "nbformat_minor": 4
}
