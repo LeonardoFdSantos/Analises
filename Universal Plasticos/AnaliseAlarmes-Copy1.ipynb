{
 "cells": [
  {
   "cell_type": "code",
   "execution_count": 1,
   "metadata": {},
   "outputs": [],
   "source": [
    "import pandas as pd"
   ]
  },
  {
   "cell_type": "code",
   "execution_count": 2,
   "metadata": {},
   "outputs": [],
   "source": [
    "import numpy as np"
   ]
  },
  {
   "cell_type": "code",
   "execution_count": 3,
   "metadata": {},
   "outputs": [],
   "source": [
    "import matplotlib.pyplot as plt\n",
    "import xlsxwriter"
   ]
  },
  {
   "cell_type": "code",
   "execution_count": 5,
   "metadata": {},
   "outputs": [
    {
     "ename": "UnicodeDecodeError",
     "evalue": "'utf-8' codec can't decode byte 0xff in position 0: invalid start byte",
     "output_type": "error",
     "traceback": [
      "\u001b[1;31m---------------------------------------------------------------------------\u001b[0m",
      "\u001b[1;31mUnicodeDecodeError\u001b[0m                        Traceback (most recent call last)",
      "\u001b[1;32m<ipython-input-5-543aa7b95b46>\u001b[0m in \u001b[0;36m<module>\u001b[1;34m\u001b[0m\n\u001b[1;32m----> 1\u001b[1;33m \u001b[0mdf\u001b[0m \u001b[1;33m=\u001b[0m \u001b[0mpd\u001b[0m\u001b[1;33m.\u001b[0m\u001b[0mread_csv\u001b[0m\u001b[1;33m(\u001b[0m\u001b[1;34m'C:\\\\temp\\\\dev\\\\TabelasNovas\\\\Alarm.csv'\u001b[0m\u001b[1;33m)\u001b[0m\u001b[1;33m\u001b[0m\u001b[1;33m\u001b[0m\u001b[0m\n\u001b[0m",
      "\u001b[1;32mC:\\ProgramData\\Anaconda3\\lib\\site-packages\\pandas\\io\\parsers.py\u001b[0m in \u001b[0;36mparser_f\u001b[1;34m(filepath_or_buffer, sep, delimiter, header, names, index_col, usecols, squeeze, prefix, mangle_dupe_cols, dtype, engine, converters, true_values, false_values, skipinitialspace, skiprows, skipfooter, nrows, na_values, keep_default_na, na_filter, verbose, skip_blank_lines, parse_dates, infer_datetime_format, keep_date_col, date_parser, dayfirst, iterator, chunksize, compression, thousands, decimal, lineterminator, quotechar, quoting, doublequote, escapechar, comment, encoding, dialect, tupleize_cols, error_bad_lines, warn_bad_lines, delim_whitespace, low_memory, memory_map, float_precision)\u001b[0m\n\u001b[0;32m    700\u001b[0m                     skip_blank_lines=skip_blank_lines)\n\u001b[0;32m    701\u001b[0m \u001b[1;33m\u001b[0m\u001b[0m\n\u001b[1;32m--> 702\u001b[1;33m         \u001b[1;32mreturn\u001b[0m \u001b[0m_read\u001b[0m\u001b[1;33m(\u001b[0m\u001b[0mfilepath_or_buffer\u001b[0m\u001b[1;33m,\u001b[0m \u001b[0mkwds\u001b[0m\u001b[1;33m)\u001b[0m\u001b[1;33m\u001b[0m\u001b[1;33m\u001b[0m\u001b[0m\n\u001b[0m\u001b[0;32m    703\u001b[0m \u001b[1;33m\u001b[0m\u001b[0m\n\u001b[0;32m    704\u001b[0m     \u001b[0mparser_f\u001b[0m\u001b[1;33m.\u001b[0m\u001b[0m__name__\u001b[0m \u001b[1;33m=\u001b[0m \u001b[0mname\u001b[0m\u001b[1;33m\u001b[0m\u001b[1;33m\u001b[0m\u001b[0m\n",
      "\u001b[1;32mC:\\ProgramData\\Anaconda3\\lib\\site-packages\\pandas\\io\\parsers.py\u001b[0m in \u001b[0;36m_read\u001b[1;34m(filepath_or_buffer, kwds)\u001b[0m\n\u001b[0;32m    427\u001b[0m \u001b[1;33m\u001b[0m\u001b[0m\n\u001b[0;32m    428\u001b[0m     \u001b[1;31m# Create the parser.\u001b[0m\u001b[1;33m\u001b[0m\u001b[1;33m\u001b[0m\u001b[1;33m\u001b[0m\u001b[0m\n\u001b[1;32m--> 429\u001b[1;33m     \u001b[0mparser\u001b[0m \u001b[1;33m=\u001b[0m \u001b[0mTextFileReader\u001b[0m\u001b[1;33m(\u001b[0m\u001b[0mfilepath_or_buffer\u001b[0m\u001b[1;33m,\u001b[0m \u001b[1;33m**\u001b[0m\u001b[0mkwds\u001b[0m\u001b[1;33m)\u001b[0m\u001b[1;33m\u001b[0m\u001b[1;33m\u001b[0m\u001b[0m\n\u001b[0m\u001b[0;32m    430\u001b[0m \u001b[1;33m\u001b[0m\u001b[0m\n\u001b[0;32m    431\u001b[0m     \u001b[1;32mif\u001b[0m \u001b[0mchunksize\u001b[0m \u001b[1;32mor\u001b[0m \u001b[0miterator\u001b[0m\u001b[1;33m:\u001b[0m\u001b[1;33m\u001b[0m\u001b[1;33m\u001b[0m\u001b[0m\n",
      "\u001b[1;32mC:\\ProgramData\\Anaconda3\\lib\\site-packages\\pandas\\io\\parsers.py\u001b[0m in \u001b[0;36m__init__\u001b[1;34m(self, f, engine, **kwds)\u001b[0m\n\u001b[0;32m    893\u001b[0m             \u001b[0mself\u001b[0m\u001b[1;33m.\u001b[0m\u001b[0moptions\u001b[0m\u001b[1;33m[\u001b[0m\u001b[1;34m'has_index_names'\u001b[0m\u001b[1;33m]\u001b[0m \u001b[1;33m=\u001b[0m \u001b[0mkwds\u001b[0m\u001b[1;33m[\u001b[0m\u001b[1;34m'has_index_names'\u001b[0m\u001b[1;33m]\u001b[0m\u001b[1;33m\u001b[0m\u001b[1;33m\u001b[0m\u001b[0m\n\u001b[0;32m    894\u001b[0m \u001b[1;33m\u001b[0m\u001b[0m\n\u001b[1;32m--> 895\u001b[1;33m         \u001b[0mself\u001b[0m\u001b[1;33m.\u001b[0m\u001b[0m_make_engine\u001b[0m\u001b[1;33m(\u001b[0m\u001b[0mself\u001b[0m\u001b[1;33m.\u001b[0m\u001b[0mengine\u001b[0m\u001b[1;33m)\u001b[0m\u001b[1;33m\u001b[0m\u001b[1;33m\u001b[0m\u001b[0m\n\u001b[0m\u001b[0;32m    896\u001b[0m \u001b[1;33m\u001b[0m\u001b[0m\n\u001b[0;32m    897\u001b[0m     \u001b[1;32mdef\u001b[0m \u001b[0mclose\u001b[0m\u001b[1;33m(\u001b[0m\u001b[0mself\u001b[0m\u001b[1;33m)\u001b[0m\u001b[1;33m:\u001b[0m\u001b[1;33m\u001b[0m\u001b[1;33m\u001b[0m\u001b[0m\n",
      "\u001b[1;32mC:\\ProgramData\\Anaconda3\\lib\\site-packages\\pandas\\io\\parsers.py\u001b[0m in \u001b[0;36m_make_engine\u001b[1;34m(self, engine)\u001b[0m\n\u001b[0;32m   1120\u001b[0m     \u001b[1;32mdef\u001b[0m \u001b[0m_make_engine\u001b[0m\u001b[1;33m(\u001b[0m\u001b[0mself\u001b[0m\u001b[1;33m,\u001b[0m \u001b[0mengine\u001b[0m\u001b[1;33m=\u001b[0m\u001b[1;34m'c'\u001b[0m\u001b[1;33m)\u001b[0m\u001b[1;33m:\u001b[0m\u001b[1;33m\u001b[0m\u001b[1;33m\u001b[0m\u001b[0m\n\u001b[0;32m   1121\u001b[0m         \u001b[1;32mif\u001b[0m \u001b[0mengine\u001b[0m \u001b[1;33m==\u001b[0m \u001b[1;34m'c'\u001b[0m\u001b[1;33m:\u001b[0m\u001b[1;33m\u001b[0m\u001b[1;33m\u001b[0m\u001b[0m\n\u001b[1;32m-> 1122\u001b[1;33m             \u001b[0mself\u001b[0m\u001b[1;33m.\u001b[0m\u001b[0m_engine\u001b[0m \u001b[1;33m=\u001b[0m \u001b[0mCParserWrapper\u001b[0m\u001b[1;33m(\u001b[0m\u001b[0mself\u001b[0m\u001b[1;33m.\u001b[0m\u001b[0mf\u001b[0m\u001b[1;33m,\u001b[0m \u001b[1;33m**\u001b[0m\u001b[0mself\u001b[0m\u001b[1;33m.\u001b[0m\u001b[0moptions\u001b[0m\u001b[1;33m)\u001b[0m\u001b[1;33m\u001b[0m\u001b[1;33m\u001b[0m\u001b[0m\n\u001b[0m\u001b[0;32m   1123\u001b[0m         \u001b[1;32melse\u001b[0m\u001b[1;33m:\u001b[0m\u001b[1;33m\u001b[0m\u001b[1;33m\u001b[0m\u001b[0m\n\u001b[0;32m   1124\u001b[0m             \u001b[1;32mif\u001b[0m \u001b[0mengine\u001b[0m \u001b[1;33m==\u001b[0m \u001b[1;34m'python'\u001b[0m\u001b[1;33m:\u001b[0m\u001b[1;33m\u001b[0m\u001b[1;33m\u001b[0m\u001b[0m\n",
      "\u001b[1;32mC:\\ProgramData\\Anaconda3\\lib\\site-packages\\pandas\\io\\parsers.py\u001b[0m in \u001b[0;36m__init__\u001b[1;34m(self, src, **kwds)\u001b[0m\n\u001b[0;32m   1851\u001b[0m         \u001b[0mkwds\u001b[0m\u001b[1;33m[\u001b[0m\u001b[1;34m'usecols'\u001b[0m\u001b[1;33m]\u001b[0m \u001b[1;33m=\u001b[0m \u001b[0mself\u001b[0m\u001b[1;33m.\u001b[0m\u001b[0musecols\u001b[0m\u001b[1;33m\u001b[0m\u001b[1;33m\u001b[0m\u001b[0m\n\u001b[0;32m   1852\u001b[0m \u001b[1;33m\u001b[0m\u001b[0m\n\u001b[1;32m-> 1853\u001b[1;33m         \u001b[0mself\u001b[0m\u001b[1;33m.\u001b[0m\u001b[0m_reader\u001b[0m \u001b[1;33m=\u001b[0m \u001b[0mparsers\u001b[0m\u001b[1;33m.\u001b[0m\u001b[0mTextReader\u001b[0m\u001b[1;33m(\u001b[0m\u001b[0msrc\u001b[0m\u001b[1;33m,\u001b[0m \u001b[1;33m**\u001b[0m\u001b[0mkwds\u001b[0m\u001b[1;33m)\u001b[0m\u001b[1;33m\u001b[0m\u001b[1;33m\u001b[0m\u001b[0m\n\u001b[0m\u001b[0;32m   1854\u001b[0m         \u001b[0mself\u001b[0m\u001b[1;33m.\u001b[0m\u001b[0munnamed_cols\u001b[0m \u001b[1;33m=\u001b[0m \u001b[0mself\u001b[0m\u001b[1;33m.\u001b[0m\u001b[0m_reader\u001b[0m\u001b[1;33m.\u001b[0m\u001b[0munnamed_cols\u001b[0m\u001b[1;33m\u001b[0m\u001b[1;33m\u001b[0m\u001b[0m\n\u001b[0;32m   1855\u001b[0m \u001b[1;33m\u001b[0m\u001b[0m\n",
      "\u001b[1;32mpandas/_libs/parsers.pyx\u001b[0m in \u001b[0;36mpandas._libs.parsers.TextReader.__cinit__\u001b[1;34m()\u001b[0m\n",
      "\u001b[1;32mpandas/_libs/parsers.pyx\u001b[0m in \u001b[0;36mpandas._libs.parsers.TextReader._get_header\u001b[1;34m()\u001b[0m\n",
      "\u001b[1;31mUnicodeDecodeError\u001b[0m: 'utf-8' codec can't decode byte 0xff in position 0: invalid start byte"
     ]
    }
   ],
   "source": [
    "df = pd.read_csv('C:\\\\temp\\\\dev\\\\TabelasNovas\\\\Alarm.csv')"
   ]
  },
  {
   "cell_type": "code",
   "execution_count": 5,
   "metadata": {},
   "outputs": [
    {
     "data": {
      "text/html": [
       "<div>\n",
       "<style scoped>\n",
       "    .dataframe tbody tr th:only-of-type {\n",
       "        vertical-align: middle;\n",
       "    }\n",
       "\n",
       "    .dataframe tbody tr th {\n",
       "        vertical-align: top;\n",
       "    }\n",
       "\n",
       "    .dataframe thead th {\n",
       "        text-align: right;\n",
       "    }\n",
       "</style>\n",
       "<table border=\"1\" class=\"dataframe\">\n",
       "  <thead>\n",
       "    <tr style=\"text-align: right;\">\n",
       "      <th></th>\n",
       "      <th>Alarm Severity</th>\n",
       "      <th>Alarm Name</th>\n",
       "      <th>Device Type</th>\n",
       "      <th>Device Name</th>\n",
       "      <th>PV Plant</th>\n",
       "      <th>Generated On</th>\n",
       "      <th>Cleared On</th>\n",
       "      <th>Clearance Type</th>\n",
       "      <th>Alarm ID</th>\n",
       "      <th>Location Information</th>\n",
       "    </tr>\n",
       "  </thead>\n",
       "  <tbody>\n",
       "    <tr>\n",
       "      <th>0</th>\n",
       "      <td>Minor</td>\n",
       "      <td>Communication Fault\\t</td>\n",
       "      <td>SUN2000</td>\n",
       "      <td>INDIANS_5kW_1\\t</td>\n",
       "      <td>Indians\\t</td>\n",
       "      <td>2019-06-13 07:41:07\\t</td>\n",
       "      <td>2019-06-13 07:45:03\\t</td>\n",
       "      <td>Automatic clear</td>\n",
       "      <td>999999999</td>\n",
       "      <td>NaN</td>\n",
       "    </tr>\n",
       "    <tr>\n",
       "      <th>1</th>\n",
       "      <td>Minor</td>\n",
       "      <td>Communication Fault\\t</td>\n",
       "      <td>SUN2000</td>\n",
       "      <td>Fetter_5kW\\t</td>\n",
       "      <td>Robinson_Fetter\\t</td>\n",
       "      <td>2019-06-13 04:52:30\\t</td>\n",
       "      <td>2019-06-13 05:04:04\\t</td>\n",
       "      <td>Automatic clear</td>\n",
       "      <td>999999999</td>\n",
       "      <td>NaN</td>\n",
       "    </tr>\n",
       "    <tr>\n",
       "      <th>2</th>\n",
       "      <td>Minor</td>\n",
       "      <td>Communication Fault\\t</td>\n",
       "      <td>SUN2000</td>\n",
       "      <td>Fetter_5kW\\t</td>\n",
       "      <td>Robinson_Fetter\\t</td>\n",
       "      <td>2019-06-13 02:34:32\\t</td>\n",
       "      <td>2019-06-13 03:02:53\\t</td>\n",
       "      <td>Automatic clear</td>\n",
       "      <td>999999999</td>\n",
       "      <td>NaN</td>\n",
       "    </tr>\n",
       "    <tr>\n",
       "      <th>3</th>\n",
       "      <td>Minor</td>\n",
       "      <td>Communication Fault\\t</td>\n",
       "      <td>SUN2000</td>\n",
       "      <td>Fetter_3kW\\t</td>\n",
       "      <td>Robinson_Fetter\\t</td>\n",
       "      <td>2019-06-13 02:32:22\\t</td>\n",
       "      <td>2019-06-13 03:59:01\\t</td>\n",
       "      <td>Automatic clear</td>\n",
       "      <td>999999999</td>\n",
       "      <td>NaN</td>\n",
       "    </tr>\n",
       "    <tr>\n",
       "      <th>4</th>\n",
       "      <td>Minor</td>\n",
       "      <td>Communication Fault\\t</td>\n",
       "      <td>SUN2000</td>\n",
       "      <td>Glaucio_Lipski\\t</td>\n",
       "      <td>Glaucio Lipski\\t</td>\n",
       "      <td>2019-06-13 01:09:48\\t</td>\n",
       "      <td>2019-06-13 01:16:20\\t</td>\n",
       "      <td>Automatic clear</td>\n",
       "      <td>999999999</td>\n",
       "      <td>NaN</td>\n",
       "    </tr>\n",
       "  </tbody>\n",
       "</table>\n",
       "</div>"
      ],
      "text/plain": [
       "  Alarm Severity             Alarm Name Device Type       Device Name  \\\n",
       "0          Minor  Communication Fault\\t     SUN2000   INDIANS_5kW_1\\t   \n",
       "1          Minor  Communication Fault\\t     SUN2000      Fetter_5kW\\t   \n",
       "2          Minor  Communication Fault\\t     SUN2000      Fetter_5kW\\t   \n",
       "3          Minor  Communication Fault\\t     SUN2000      Fetter_3kW\\t   \n",
       "4          Minor  Communication Fault\\t     SUN2000  Glaucio_Lipski\\t   \n",
       "\n",
       "            PV Plant           Generated On             Cleared On  \\\n",
       "0          Indians\\t  2019-06-13 07:41:07\\t  2019-06-13 07:45:03\\t   \n",
       "1  Robinson_Fetter\\t  2019-06-13 04:52:30\\t  2019-06-13 05:04:04\\t   \n",
       "2  Robinson_Fetter\\t  2019-06-13 02:34:32\\t  2019-06-13 03:02:53\\t   \n",
       "3  Robinson_Fetter\\t  2019-06-13 02:32:22\\t  2019-06-13 03:59:01\\t   \n",
       "4   Glaucio Lipski\\t  2019-06-13 01:09:48\\t  2019-06-13 01:16:20\\t   \n",
       "\n",
       "    Clearance Type   Alarm ID Location Information  \n",
       "0  Automatic clear  999999999                  NaN  \n",
       "1  Automatic clear  999999999                  NaN  \n",
       "2  Automatic clear  999999999                  NaN  \n",
       "3  Automatic clear  999999999                  NaN  \n",
       "4  Automatic clear  999999999                  NaN  "
      ]
     },
     "execution_count": 5,
     "metadata": {},
     "output_type": "execute_result"
    }
   ],
   "source": [
    "df.head()"
   ]
  },
  {
   "cell_type": "code",
   "execution_count": 35,
   "metadata": {},
   "outputs": [],
   "source": [
    "Betine_Rost = df[df['PV Plant'] == 'Betine_Rost\\t']\n",
    "Cassio_Burin = df[df['PV Plant']== 'Cassio_Burin\\t']\n",
    "Rosa_Radunz = df[df['PV Plant']== 'Rosa_Radunz\\t']\n",
    "Fabio_Moura = df[df['PV Plant'] == 'Fabio_Moura\\t']\n",
    "Glaucio_Lipski = df[df['PV Plant'] == 'Glaucio Lipski\\t']\n",
    "Indians = df[df['PV Plant'] == 'Indians\\t']\n",
    "Jose_Morais = df[df['PV Plant'] =='Jose_Morais\\t']\n",
    "Cristiano_Anschau = df[df['PV Plant'] == 'Cristiano Anschau\\t']\n",
    "Daniela_Massalai = df[df['PV Plant'] == 'Daniela_Massalai\\t']\n",
    "Eldo_Rost = df[df['PV Plant'] == 'Eldo Rost\\t']\n",
    "Ivo_Oliveira = df[df['PV Plant'] == 'Ivo_Oliveira\\t']\n",
    "Luciana_Correa = df[df['PV Plant'] =='Luciana Correa\\t']\n",
    "Marcio_Siqueira = df[df['PV Plant'] == 'Marcio Siqueira\\t']\n",
    "Marcos_Kessler = df[df['PV Plant'] == 'Marcos_ Kessler\\t']\n",
    "Mauricio_Lunardi = df[df['PV Plant'] == 'Mauricio_Lunardi\\t']\n",
    "Cleci_Rubi = df[df['PV Plant'] == 'Cleci_Rubi\\t']\n",
    "Robinson_Fetter = df[df['PV Plant'] == 'Robinson_Fetter\\t']\n",
    "Silvio_Avila = df[df['PV Plant'] == 'Silvio_Avila\\t']\n",
    "Vita_Fisio = df[df['PV Plant'] == 'Vita Fisio\\t']\n",
    "toda = df"
   ]
  },
  {
   "cell_type": "code",
   "execution_count": 59,
   "metadata": {},
   "outputs": [
    {
     "ename": "SyntaxError",
     "evalue": "positional argument follows keyword argument (<ipython-input-59-5930f5213a8b>, line 5)",
     "output_type": "error",
     "traceback": [
      "\u001b[1;36m  File \u001b[1;32m\"<ipython-input-59-5930f5213a8b>\"\u001b[1;36m, line \u001b[1;32m5\u001b[0m\n\u001b[1;33m    set_align('center', 'vcenter'))\u001b[0m\n\u001b[1;37m    ^\u001b[0m\n\u001b[1;31mSyntaxError\u001b[0m\u001b[1;31m:\u001b[0m positional argument follows keyword argument\n"
     ]
    }
   ],
   "source": [
    "exceldados = pd.ExcelWriter('Analise.xlsx',\n",
    "                            engine='xlsxwriter',\n",
    "                            datetime_format='mmm-d-yyyy hh:mm:ss',\n",
    "                            date_format='mmmm-dd-yyyy',)\n",
    "Betine_Rost.to_excel(exceldados, sheet_name='Betine_Rost')\n",
    "Cassio_Burin.to_excel(exceldados, sheet_name='Cassio_Burin')\n",
    "Rosa_Radunz.to_excel(exceldados, sheet_name='Rosa_Radunz')\n",
    "Fabio_Moura.to_excel(exceldados, sheet_name='Fabio_Moura')\n",
    "Glaucio_Lipski.to_excel(exceldados, sheet_name='Glaucio_Lipski')\n",
    "Indians.to_excel(exceldados, sheet_name='Indians')\n",
    "Jose_Morais.to_excel(exceldados, sheet_name='Jose_Morais')\n",
    "Cristiano_Anschau.to_excel(exceldados, sheet_name='Cristiano_Anschau')\n",
    "Daniela_Massalai.to_excel(exceldados, sheet_name='Daniela_Massalai')\n",
    "Eldo_Rost.to_excel(exceldados, sheet_name='Eldo_Rost')\n",
    "Ivo_Oliveira.to_excel(exceldados, sheet_name='Ivo_Oliveira')\n",
    "Luciana_Correa.to_excel(exceldados, sheet_name='Luciana_Correa')\n",
    "Marcio_Siqueira.to_excel(exceldados, sheet_name='Marcio_Siqueira')\n",
    "Marcio_Siqueira.to_excel(exceldados, sheet_name='Marcos_Kessler')\n",
    "Marcos_Kessler.to_excel(exceldados, sheet_name='Marcos_Kessler')\n",
    "Mauricio_Lunardi.to_excel(exceldados, sheet_name='Mauricio_Lunardi')\n",
    "Cleci_Rubi.to_excel(exceldados, sheet_name='Cleci_Rubi')\n",
    "Robinson_Fetter.to_excel(exceldados, sheet_name='Robinson_Fetter')\n",
    "Silvio_Avila.to_excel(exceldados, sheet_name='Silvio_Avila')\n",
    "Vita_Fisio.to_excel(exceldados, sheet_name='Vita_Fisio')\n",
    "exceldados.save()"
   ]
  },
  {
   "cell_type": "code",
   "execution_count": 56,
   "metadata": {},
   "outputs": [],
   "source": [
    "from win32com.client import Dispatch\n",
    "\n",
    "appexcel = Dispatch('Excel.Application')\n",
    "wb = appexcel.Workbooks.Open('C:\\\\temp\\\\dev\\\\TabelasNovas\\\\Analise.xlsx')\n",
    "\n",
    "for i in range (1, 20, 1):\n",
    "    appexcel.Worksheets(i).Activate()\n",
    "    appexcel.ActiveSheet.Columns.AutoFit()\n",
    "\n",
    "appexcel.Worksheets(1).Activate()\n",
    "wb.Save()\n",
    "wb.Close()"
   ]
  },
  {
   "cell_type": "code",
   "execution_count": null,
   "metadata": {},
   "outputs": [],
   "source": []
  }
 ],
 "metadata": {
  "kernelspec": {
   "display_name": "Python 3",
   "language": "python",
   "name": "python3"
  },
  "language_info": {
   "codemirror_mode": {
    "name": "ipython",
    "version": 3
   },
   "file_extension": ".py",
   "mimetype": "text/x-python",
   "name": "python",
   "nbconvert_exporter": "python",
   "pygments_lexer": "ipython3",
   "version": "3.7.3"
  }
 },
 "nbformat": 4,
 "nbformat_minor": 2
}
