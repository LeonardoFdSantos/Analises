{
 "cells": [
  {
   "cell_type": "code",
   "execution_count": 1,
   "metadata": {
    "pycharm": {
     "is_executing": false
    }
   },
   "outputs": [],
   "source": [
    "import pandas as pd\n",
    "from pandas import ExcelWriter\n",
    "from pandas import ExcelFile\n",
    "import numpy as np\n",
    "import matplotlib.pyplot as plt\n",
    "import math as mt\n",
    "import tensorflow as tf"
   ]
  },
  {
   "cell_type": "code",
   "execution_count": 2,
   "outputs": [],
   "source": [
    "fp_padrao = 0.92\n",
    "fp_padrao_Sup = 2-fp_padrao"
   ],
   "metadata": {
    "collapsed": false,
    "pycharm": {
     "name": "#%%\n",
     "is_executing": false
    }
   }
  },
  {
   "cell_type": "code",
   "execution_count": 3,
   "metadata": {
    "pycharm": {
     "is_executing": false
    }
   },
   "outputs": [],
   "source": [
    "def normaliza(s):\n",
    "    if s >= 0:\n",
    "       return s\n",
    "    elif s < 0 :\n",
    "       return s + 2"
   ]
  },
  {
   "cell_type": "code",
   "execution_count": 4,
   "outputs": [],
   "source": [
    "base = pd.read_excel('testeexport.xlsx')\n",
    "base1 = base\n",
    "\n",
    "base.drop(columns=['Freqüência', 'Ocorrência'],inplace=True)\n",
    "\n",
    "base.rename(columns ={'Fat.Pot T': 'FP T',\n",
    "                      'Fat.Pot. R': 'FP R',\n",
    "                      'Fat.Pot. S': 'FP S'}, inplace=True)\n",
    "\n",
    "base = pd.pivot_table(base, index=['Data'])"
   ],
   "metadata": {
    "collapsed": false,
    "pycharm": {
     "name": "#%%\n",
     "is_executing": false
    }
   }
  },
  {
   "cell_type": "code",
   "execution_count": 5,
   "outputs": [],
   "source": [
    "base['Pot R KVA'] = (base['Corrente R'] * base['Tensão R'] * (mt.sqrt(3)))/1000\n",
    "base['Pot S KVA'] = (base['Corrente S'] * base['Tensão S'] * (mt.sqrt(3)))/1000\n",
    "base['Pot T KVA'] = (base['Corrente T'] * base['Tensão T'] * (mt.sqrt(3)))/1000"
   ],
   "metadata": {
    "collapsed": false,
    "pycharm": {
     "name": "#%%\n",
     "is_executing": false
    }
   }
  },
  {
   "cell_type": "code",
   "execution_count": 6,
   "outputs": [],
   "source": [
    "#Calculo KVAr usando numpy\n",
    "base['Pot R KW'] = (base['Pot R KVA'] * (base['FP R']))\n",
    "base['Pot S KW'] = (base['Pot S KVA'] * (base['FP S']))\n",
    "base['Pot T KW'] = (base['Pot T KVA'] * (base['FP T']))"
   ],
   "metadata": {
    "collapsed": false,
    "pycharm": {
     "name": "#%%\n",
     "is_executing": false
    }
   }
  },
  {
   "cell_type": "code",
   "execution_count": 7,
   "outputs": [],
   "source": [
    "#Calculo KVAr usando numpy\n",
    "base['Pot R KVAr'] = np.sqrt(np.power(base['Pot R KVA'],2) - np.power(base['Pot R KW'],2))\n",
    "base['Pot S KVAr'] = np.sqrt(np.power(base['Pot S KVA'],2) - np.power(base['Pot S KW'],2))\n",
    "base['Pot T KVAr'] = np.sqrt(np.power(base['Pot T KVA'],2) - np.power(base['Pot T KW'],2))"
   ],
   "metadata": {
    "collapsed": false,
    "pycharm": {
     "name": "#%%\n",
     "is_executing": false
    }
   }
  },
  {
   "cell_type": "code",
   "execution_count": 8,
   "outputs": [],
   "source": [
    "#Calculo Faltante Kvar\n",
    "base['Pot R KVAr faltante'] = (base['Pot R KVAr']) - (np.sqrt(np.power(base['Pot R KVA'],2)-\n",
    "                                                                      (np.power((base['Pot R KVA'] * (fp_padrao)),2))))\n",
    "base['Pot S KVAr faltante'] = (base['Pot S KVAr']) - (np.sqrt(np.power(base['Pot S KVA'],2)-\n",
    "                                                                      (np.power((base['Pot S KVA'] * (fp_padrao)),2))))\n",
    "base['Pot T KVAr faltante'] = (base['Pot T KVAr']) - (np.sqrt(np.power(base['Pot T KVA'],2)-\n",
    "                                                                      (np.power((base['Pot T KVA'] * (fp_padrao)),2))))"
   ],
   "metadata": {
    "collapsed": false,
    "pycharm": {
     "name": "#%%\n",
     "is_executing": false
    }
   }
  },
  {
   "cell_type": "code",
   "execution_count": 9,
   "outputs": [],
   "source": [
    "base[\"FP R\"] = base[\"FP R\"].apply(normaliza)\n",
    "base[\"FP S\"] = base[\"FP S\"].apply(normaliza)\n",
    "base[\"FP T\"] = base[\"FP T\"].apply(normaliza)\n",
    "\n",
    "base[\"FP R\"] = base[\"FP R\"].apply(normaliza)\n",
    "base[\"FP S\"] = base[\"FP S\"].apply(normaliza)\n",
    "base[\"FP T\"] = base[\"FP T\"].apply(normaliza)"
   ],
   "metadata": {
    "collapsed": false,
    "pycharm": {
     "name": "#%%\n",
     "is_executing": false
    }
   }
  },
  {
   "cell_type": "code",
   "execution_count": 10,
   "outputs": [],
   "source": [
    "fpfases_abaixo = base.loc[((base[\"FP R\"]< fp_padrao) | (base[\"FP R\"]> fp_padrao_Sup))\n",
    "                         | ((base[\"FP S\"]< fp_padrao) | (base[\"FP S\"]> fp_padrao_Sup))\n",
    "                         | ((base[\"FP T\"]< fp_padrao) | (base[\"FP T\"]> fp_padrao_Sup))]\n",
    "\n",
    "fpfases = base.loc[((base[\"FP R\"]< fp_padrao) | (base[\"FP R\"]> fp_padrao_Sup))\n",
    "                         | ((base[\"FP S\"]< fp_padrao) | (base[\"FP S\"]> fp_padrao_Sup))\n",
    "                         | ((base[\"FP T\"]< fp_padrao) | (base[\"FP T\"]> fp_padrao_Sup))]"
   ],
   "metadata": {
    "collapsed": false,
    "pycharm": {
     "name": "#%%\n",
     "is_executing": false
    }
   }
  },
  {
   "cell_type": "code",
   "execution_count": 11,
   "outputs": [],
   "source": [
    "maximoR = fpfases['Pot R KVAr faltante'].max()\n",
    "maximoS = fpfases['Pot S KVAr faltante'].max()\n",
    "maximoT = fpfases['Pot T KVAr faltante'].max()"
   ],
   "metadata": {
    "collapsed": false,
    "pycharm": {
     "name": "#%%\n",
     "is_executing": false
    }
   }
  },
  {
   "cell_type": "code",
   "execution_count": 14,
   "metadata": {
    "pycharm": {
     "is_executing": false
    }
   },
   "outputs": [],
   "source": [
    "def fases():\n",
    "    exceldados = pd.ExcelWriter('FP Fases.xlsx',\n",
    "                                engine='xlsxwriter',\n",
    "                                datetime_format='mmm-d-yyyy hh:mm:ss',\n",
    "                                date_format='mmmm-dd-yyyy',)\n",
    "    base.round(5).to_excel(exceldados, sheet_name='Tiago') #1\n",
    "    fpfases.round(5).to_excel(exceldados, sheet_name='FP Fora do padrão') #2\n",
    "    exceldados.save()\n",
    "\n",
    "    from win32com.client import Dispatch\n",
    "    appexcel = Dispatch('Excel.Application')\n",
    "    wb = appexcel.Workbooks.Open('D:\\Dev\\Gits_leo\\Analises\\Tiago\\FP Fases.xlsx')\n",
    "    for i in range (1, 3, 1):\n",
    "        appexcel.Worksheets(i).Activate()\n",
    "        appexcel.ActiveSheet.Columns.AutoFit()\n",
    "    appexcel.Worksheets(1).Activate()\n",
    "    wb.Save()\n",
    "    wb.Close()\n",
    "\n",
    "def graficos():\n",
    "    exceldados = pd.ExcelWriter('FP Fases gráficos.xlsx',\n",
    "                                engine='xlsxwriter',\n",
    "                                datetime_format='mmm-d-yyyy hh:mm:ss',\n",
    "                                date_format='mmmm-dd-yyyy',)\n",
    "    base.round(5).to_excel(exceldados, sheet_name='Tiago') #1\n",
    "    fpfases.round(5).to_excel(exceldados, sheet_name='FP Fora do padrão') #2\n",
    "    exceldados.save()\n",
    "\n",
    "    from win32com.client import Dispatch\n",
    "    appexcel = Dispatch('Excel.Application')\n",
    "    wb = appexcel.Workbooks.Open('D:\\Dev\\Gits_leo\\Analises\\Tiago\\FP Fases gráficos.xlsx')\n",
    "    for i in range (1, 3, 1):\n",
    "        appexcel.Worksheets(i).Activate()\n",
    "        appexcel.ActiveSheet.Columns.AutoFit()\n",
    "    appexcel.Worksheets(1).Activate()\n",
    "    wb.Save()\n",
    "    wb.Close()"
   ]
  },
  {
   "cell_type": "code",
   "execution_count": 15,
   "metadata": {
    "pycharm": {
     "is_executing": false
    }
   },
   "outputs": [
    {
     "traceback": [
      "\u001b[1;31m---------------------------------------------------------------------------\u001b[0m",
      "\u001b[1;31mcom_error\u001b[0m                                 Traceback (most recent call last)",
      "\u001b[1;32m<ipython-input-15-8bc36b130649>\u001b[0m in \u001b[0;36m<module>\u001b[1;34m\u001b[0m\n\u001b[1;32m----> 1\u001b[1;33m \u001b[0mfases\u001b[0m\u001b[1;33m(\u001b[0m\u001b[1;33m)\u001b[0m\u001b[1;33m\u001b[0m\u001b[1;33m\u001b[0m\u001b[0m\n\u001b[0m\u001b[0;32m      2\u001b[0m \u001b[0mgraficos\u001b[0m\u001b[1;33m(\u001b[0m\u001b[1;33m)\u001b[0m\u001b[1;33m\u001b[0m\u001b[1;33m\u001b[0m\u001b[0m\n\u001b[0;32m      3\u001b[0m \u001b[1;33m\u001b[0m\u001b[0m\n",
      "\u001b[1;32m<ipython-input-14-1848abcfcb6f>\u001b[0m in \u001b[0;36mfases\u001b[1;34m()\u001b[0m\n\u001b[0;32m     10\u001b[0m     \u001b[1;32mfrom\u001b[0m \u001b[0mwin32com\u001b[0m\u001b[1;33m.\u001b[0m\u001b[0mclient\u001b[0m \u001b[1;32mimport\u001b[0m \u001b[0mDispatch\u001b[0m\u001b[1;33m\u001b[0m\u001b[1;33m\u001b[0m\u001b[0m\n\u001b[0;32m     11\u001b[0m     \u001b[0mappexcel\u001b[0m \u001b[1;33m=\u001b[0m \u001b[0mDispatch\u001b[0m\u001b[1;33m(\u001b[0m\u001b[1;34m'Excel.Application'\u001b[0m\u001b[1;33m)\u001b[0m\u001b[1;33m\u001b[0m\u001b[1;33m\u001b[0m\u001b[0m\n\u001b[1;32m---> 12\u001b[1;33m     \u001b[0mwb\u001b[0m \u001b[1;33m=\u001b[0m \u001b[0mappexcel\u001b[0m\u001b[1;33m.\u001b[0m\u001b[0mWorkbooks\u001b[0m\u001b[1;33m.\u001b[0m\u001b[0mOpen\u001b[0m\u001b[1;33m(\u001b[0m\u001b[1;34m'D:\\Dev\\Gits_leo\\Analises\\Tiago - São Pedro do Butiá\\FP Fases.xlsx'\u001b[0m\u001b[1;33m)\u001b[0m\u001b[1;33m\u001b[0m\u001b[1;33m\u001b[0m\u001b[0m\n\u001b[0m\u001b[0;32m     13\u001b[0m     \u001b[1;32mfor\u001b[0m \u001b[0mi\u001b[0m \u001b[1;32min\u001b[0m \u001b[0mrange\u001b[0m \u001b[1;33m(\u001b[0m\u001b[1;36m1\u001b[0m\u001b[1;33m,\u001b[0m \u001b[1;36m3\u001b[0m\u001b[1;33m,\u001b[0m \u001b[1;36m1\u001b[0m\u001b[1;33m)\u001b[0m\u001b[1;33m:\u001b[0m\u001b[1;33m\u001b[0m\u001b[1;33m\u001b[0m\u001b[0m\n\u001b[0;32m     14\u001b[0m         \u001b[0mappexcel\u001b[0m\u001b[1;33m.\u001b[0m\u001b[0mWorksheets\u001b[0m\u001b[1;33m(\u001b[0m\u001b[0mi\u001b[0m\u001b[1;33m)\u001b[0m\u001b[1;33m.\u001b[0m\u001b[0mActivate\u001b[0m\u001b[1;33m(\u001b[0m\u001b[1;33m)\u001b[0m\u001b[1;33m\u001b[0m\u001b[1;33m\u001b[0m\u001b[0m\n",
      "\u001b[1;32mD:\\ProgramData\\Anaconda3\\envs\\pyleo\\lib\\site-packages\\win32com\\client\\dynamic.py\u001b[0m in \u001b[0;36mOpen\u001b[1;34m(self, Filename, UpdateLinks, ReadOnly, Format, Password, WriteResPassword, IgnoreReadOnlyRecommended, Origin, Delimiter, Editable, Notify, Converter, AddToMru, Local, CorruptLoad)\u001b[0m\n",
      "\u001b[1;31mcom_error\u001b[0m: (-2147023170, 'Falha na chamada de procedimento remoto.', None, None)"
     ],
     "ename": "com_error",
     "evalue": "(-2147023170, 'Falha na chamada de procedimento remoto.', None, None)",
     "output_type": "error"
    }
   ],
   "source": [
    "fases()\n",
    "graficos()"
   ]
  },
  {
   "cell_type": "code",
   "execution_count": null,
   "metadata": {
    "pycharm": {
     "is_executing": false
    }
   },
   "outputs": [],
   "source": []
  }
 ],
 "metadata": {
  "kernelspec": {
   "display_name": "Python 3",
   "language": "python",
   "name": "python3"
  },
  "language_info": {
   "codemirror_mode": {
    "name": "ipython",
    "version": 3
   },
   "file_extension": ".py",
   "mimetype": "text/x-python",
   "name": "python",
   "nbconvert_exporter": "python",
   "pygments_lexer": "ipython3",
   "version": "3.7.3"
  },
  "pycharm": {
   "stem_cell": {
    "cell_type": "raw",
    "source": [],
    "metadata": {
     "collapsed": false
    }
   }
  }
 },
 "nbformat": 4,
 "nbformat_minor": 2
}