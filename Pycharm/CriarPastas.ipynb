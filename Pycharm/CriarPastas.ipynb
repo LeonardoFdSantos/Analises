{
 "cells": [
  {
   "cell_type": "code",
   "execution_count": 2,
   "metadata": {
    "pycharm": {
     "is_executing": false
    }
   },
   "outputs": [],
   "source": [
    "import os\n",
    "import pandas as pd\n",
    "import numpy as np"
   ]
  },
  {
   "cell_type": "code",
   "execution_count": 3,
   "metadata": {
    "pycharm": {
     "is_executing": false
    }
   },
   "outputs": [
    {
     "data": {
      "text/plain": "                                      Nome\n0                     01 - Marlon Colovini\n1                     02 - Mara Barichello\n2                       03 - Jandira Dutra\n3                04 - Luiz Fernando Kruger\n4                          05 - Paulo Bohn\n..                                     ...\n66                    68 - Mercado Ceretta\n67  69 - Antonio Carlos Dos Santos Pereira\n68            70 - Volnei Lemos Avila - Me\n69                  71 - Silvana Meneghini\n70             72 - Eficaz Engenharia Ltda\n\n[71 rows x 1 columns]",
      "text/html": "<div>\n<style scoped>\n    .dataframe tbody tr th:only-of-type {\n        vertical-align: middle;\n    }\n\n    .dataframe tbody tr th {\n        vertical-align: top;\n    }\n\n    .dataframe thead th {\n        text-align: right;\n    }\n</style>\n<table border=\"1\" class=\"dataframe\">\n  <thead>\n    <tr style=\"text-align: right;\">\n      <th></th>\n      <th>Nome</th>\n    </tr>\n  </thead>\n  <tbody>\n    <tr>\n      <th>0</th>\n      <td>01 - Marlon Colovini</td>\n    </tr>\n    <tr>\n      <th>1</th>\n      <td>02 - Mara Barichello</td>\n    </tr>\n    <tr>\n      <th>2</th>\n      <td>03 - Jandira Dutra</td>\n    </tr>\n    <tr>\n      <th>3</th>\n      <td>04 - Luiz Fernando Kruger</td>\n    </tr>\n    <tr>\n      <th>4</th>\n      <td>05 - Paulo Bohn</td>\n    </tr>\n    <tr>\n      <th>...</th>\n      <td>...</td>\n    </tr>\n    <tr>\n      <th>66</th>\n      <td>68 - Mercado Ceretta</td>\n    </tr>\n    <tr>\n      <th>67</th>\n      <td>69 - Antonio Carlos Dos Santos Pereira</td>\n    </tr>\n    <tr>\n      <th>68</th>\n      <td>70 - Volnei Lemos Avila - Me</td>\n    </tr>\n    <tr>\n      <th>69</th>\n      <td>71 - Silvana Meneghini</td>\n    </tr>\n    <tr>\n      <th>70</th>\n      <td>72 - Eficaz Engenharia Ltda</td>\n    </tr>\n  </tbody>\n</table>\n<p>71 rows × 1 columns</p>\n</div>"
     },
     "metadata": {},
     "output_type": "execute_result",
     "execution_count": 3
    }
   ],
   "source": [
    "nomes = pd.read_excel('Valores.xlsx',sheet_name='Pastas')\n",
    "nomes"
   ]
  },
  {
   "cell_type": "code",
   "execution_count": 4,
   "metadata": {
    "pycharm": {
     "is_executing": false
    }
   },
   "outputs": [
    {
     "data": {
      "text/plain": "72"
     },
     "metadata": {},
     "output_type": "execute_result",
     "execution_count": 4
    }
   ],
   "source": [
    "nomesloop = nomes['Nome']\n",
    "maximo = nomesloop.count()+1\n",
    "maximo"
   ]
  },
  {
   "cell_type": "code",
   "execution_count": 5,
   "metadata": {
    "pycharm": {
     "is_executing": false
    }
   },
   "outputs": [],
   "source": [
    "for i in range(1,maximo):\n",
    "    nome = nomesloop[:i:]\n",
    "    nome"
   ]
  },
  {
   "cell_type": "code",
   "execution_count": 6,
   "metadata": {
    "pycharm": {
     "is_executing": false
    }
   },
   "outputs": [
    {
     "data": {
      "text/plain": "0                       01 - Marlon Colovini\n1                       02 - Mara Barichello\n2                         03 - Jandira Dutra\n3                  04 - Luiz Fernando Kruger\n4                            05 - Paulo Bohn\n                       ...                  \n66                      68 - Mercado Ceretta\n67    69 - Antonio Carlos Dos Santos Pereira\n68              70 - Volnei Lemos Avila - Me\n69                    71 - Silvana Meneghini\n70               72 - Eficaz Engenharia Ltda\nName: Nome, Length: 71, dtype: object"
     },
     "metadata": {},
     "output_type": "execute_result",
     "execution_count": 6
    }
   ],
   "source": [
    "nome"
   ]
  },
  {
   "cell_type": "code",
   "execution_count": 7,
   "metadata": {
    "pycharm": {
     "is_executing": false
    }
   },
   "outputs": [],
   "source": [
    "path = './contas'\n",
    "os.makedirs(path)"
   ]
  },
  {
   "cell_type": "code",
   "execution_count": 8,
   "metadata": {
    "pycharm": {
     "is_executing": false
    }
   },
   "outputs": [],
   "source": [
    "for x in nome:\n",
    "    dir = path+'/'+x\n",
    "    os.makedirs(dir)"
   ]
  },
  {
   "cell_type": "code",
   "execution_count": 11,
   "metadata": {
    "pycharm": {
     "is_executing": false,
     "name": "#%%\n"
    }
   },
   "outputs": [
    {
     "name": "stdout",
     "text": [
      "[]\n"
     ],
     "output_type": "stream"
    }
   ],
   "source": []
  }
 ],
 "metadata": {
  "kernelspec": {
   "display_name": "Python 3",
   "language": "python",
   "name": "python3"
  },
  "language_info": {
   "codemirror_mode": {
    "name": "ipython",
    "version": 3
   },
   "file_extension": ".py",
   "mimetype": "text/x-python",
   "name": "python",
   "nbconvert_exporter": "python",
   "pygments_lexer": "ipython3",
   "version": "3.6.9"
  },
  "pycharm": {
   "stem_cell": {
    "cell_type": "raw",
    "source": [],
    "metadata": {
     "collapsed": false
    }
   }
  }
 },
 "nbformat": 4,
 "nbformat_minor": 4
}