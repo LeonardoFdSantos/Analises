{
 "cells": [
  {
   "cell_type": "code",
   "execution_count": 1,
   "metadata": {
    "pycharm": {
     "is_executing": false
    }
   },
   "outputs": [],
   "source": [
    "import os\n",
    "import sys\n",
    "from pathlib import Path\n",
    "import shutil\n",
    "import pandas as pd"
   ]
  },
  {
   "cell_type": "code",
   "execution_count": 2,
   "metadata": {
    "jupyter": {
     "outputs_hidden": false
    },
    "pycharm": {
     "is_executing": false,
     "name": "#%%\n"
    }
   },
   "outputs": [],
   "source": [
    "def files_path(path):\n",
    "    return [os.path.join(file) for p, _, files in os.walk(os.path.abspath(path)) for file in files]"
   ]
  },
  {
   "cell_type": "code",
   "execution_count": 3,
   "metadata": {
    "jupyter": {
     "outputs_hidden": false
    },
    "pycharm": {
     "is_executing": false,
     "name": "#%%\n"
    }
   },
   "outputs": [
    {
     "data": {
      "text/plain": [
       "'01 - Marlon - UC 01 - 2018-02.pdf'"
      ]
     },
     "execution_count": 3,
     "metadata": {},
     "output_type": "execute_result"
    }
   ],
   "source": [
    "files = files_path('./CONSOLIDADOS - ÚLTIMAS CONTAS')\n",
    "files[5]"
   ]
  },
  {
   "cell_type": "code",
   "execution_count": 17,
   "metadata": {
    "jupyter": {
     "outputs_hidden": false
    },
    "pycharm": {
     "is_executing": false,
     "name": "#%%\n"
    }
   },
   "outputs": [],
   "source": [
    "def files_path1(*args):\n",
    "    l = []\n",
    "    k = []\n",
    "    for item in args:\n",
    "        for p, _, files in os.walk(os.path.abspath(item)):\n",
    "            for file in files:\n",
    "                l.append((file))\n",
    "                k.append((p+'\\\\'+file))\n",
    "    return (l, k)"
   ]
  },
  {
   "cell_type": "code",
   "execution_count": 37,
   "metadata": {
    "jupyter": {
     "outputs_hidden": false
    },
    "pycharm": {
     "is_executing": false,
     "name": "#%%\n"
    }
   },
   "outputs": [
    {
     "data": {
      "text/plain": [
       "'C:\\\\Dev\\\\GitsLeo\\\\Analises\\\\Pycharm\\\\CONSOLIDADOS - ÚLTIMAS CONTAS\\\\01 - Marlon Colovini\\\\01 - Marlon - UC 01 - 2018-02.pdf'"
      ]
     },
     "execution_count": 37,
     "metadata": {},
     "output_type": "execute_result"
    }
   ],
   "source": [
    "diretorios = os.listdir('./contas/')\n",
    "files2 = files_path1('./CONSOLIDADOS - ÚLTIMAS CONTAS/')\n",
    "files2[1][5]"
   ]
  },
  {
   "cell_type": "code",
   "execution_count": 27,
   "metadata": {
    "jupyter": {
     "outputs_hidden": false
    },
    "pycharm": {
     "is_executing": false,
     "name": "#%%\n"
    }
   },
   "outputs": [
    {
     "name": "stdout",
     "output_type": "stream",
     "text": [
      "25 - Erno Sc \\ 25 - Erno Sc \\ C:\\Dev\\GitsLeo\\Analises\\Pycharm\\organizar\\25 - Erno Schiefelbain -  2018-11.pdf \\ C:/Dev/GitsLeo/Analises/Pycharm/contas/25 - Erno Schiefelbain/\n",
      "Copiado com sucesso!\n",
      "\n",
      "25 - Erno Sc \\ 25 - Erno Sc \\ C:\\Dev\\GitsLeo\\Analises\\Pycharm\\organizar\\25 - Erno Schiefelbain - 2018-12.pdf \\ C:/Dev/GitsLeo/Analises/Pycharm/contas/25 - Erno Schiefelbain/\n",
      "Copiado com sucesso!\n",
      "\n",
      "25 - Erno Sc \\ 25 - Erno Sc \\ C:\\Dev\\GitsLeo\\Analises\\Pycharm\\organizar\\25 - Erno Schiefelbain - 2019-01.pdf \\ C:/Dev/GitsLeo/Analises/Pycharm/contas/25 - Erno Schiefelbain/\n",
      "Copiado com sucesso!\n",
      "\n",
      "25 - Erno Sc \\ 25 - Erno Sc \\ C:\\Dev\\GitsLeo\\Analises\\Pycharm\\organizar\\25 - Erno Schiefelbain - 2019-02.pdf \\ C:/Dev/GitsLeo/Analises/Pycharm/contas/25 - Erno Schiefelbain/\n",
      "Copiado com sucesso!\n",
      "\n",
      "25 - Erno Sc \\ 25 - Erno Sc \\ C:\\Dev\\GitsLeo\\Analises\\Pycharm\\organizar\\25 - Erno Schiefelbain - 2019-03.pdf \\ C:/Dev/GitsLeo/Analises/Pycharm/contas/25 - Erno Schiefelbain/\n",
      "Copiado com sucesso!\n",
      "\n",
      "25 - Erno Sc \\ 25 - Erno Sc \\ C:\\Dev\\GitsLeo\\Analises\\Pycharm\\organizar\\25 - Erno Schiefelbain - 2019-04.pdf \\ C:/Dev/GitsLeo/Analises/Pycharm/contas/25 - Erno Schiefelbain/\n",
      "Copiado com sucesso!\n",
      "\n",
      "25 - Erno Sc \\ 25 - Erno Sc \\ C:\\Dev\\GitsLeo\\Analises\\Pycharm\\organizar\\25 - Erno Schiefelbain - 2019-05.pdf \\ C:/Dev/GitsLeo/Analises/Pycharm/contas/25 - Erno Schiefelbain/\n",
      "Copiado com sucesso!\n",
      "\n",
      "25 - Erno Sc \\ 25 - Erno Sc \\ C:\\Dev\\GitsLeo\\Analises\\Pycharm\\organizar\\25 - Erno Schiefelbain - 2019-06.pdf \\ C:/Dev/GitsLeo/Analises/Pycharm/contas/25 - Erno Schiefelbain/\n",
      "Copiado com sucesso!\n",
      "\n",
      "25 - Erno Sc \\ 25 - Erno Sc \\ C:\\Dev\\GitsLeo\\Analises\\Pycharm\\organizar\\25 - Erno Schiefelbain - 2019-07.pdf \\ C:/Dev/GitsLeo/Analises/Pycharm/contas/25 - Erno Schiefelbain/\n",
      "Copiado com sucesso!\n",
      "\n",
      "25 - Erno Sc \\ 25 - Erno Sc \\ C:\\Dev\\GitsLeo\\Analises\\Pycharm\\organizar\\25 - Erno Schiefelbain - 2019-08.pdf \\ C:/Dev/GitsLeo/Analises/Pycharm/contas/25 - Erno Schiefelbain/\n",
      "Copiado com sucesso!\n",
      "\n",
      "25 - Erno Sc \\ 25 - Erno Sc \\ C:\\Dev\\GitsLeo\\Analises\\Pycharm\\organizar\\25 - Erno Schiefelbain - 2019-09.pdf \\ C:/Dev/GitsLeo/Analises/Pycharm/contas/25 - Erno Schiefelbain/\n",
      "Copiado com sucesso!\n",
      "\n",
      "26 - José Pa \\ 26 - José Pa \\ C:\\Dev\\GitsLeo\\Analises\\Pycharm\\organizar\\26 - José Paulo Backes - 2018-11.pdf \\ C:/Dev/GitsLeo/Analises/Pycharm/contas/26 - José Paulo Backes/\n",
      "Copiado com sucesso!\n",
      "\n",
      "26 - José Pa \\ 26 - José Pa \\ C:\\Dev\\GitsLeo\\Analises\\Pycharm\\organizar\\26 - José Paulo Backes - 2018-12.pdf \\ C:/Dev/GitsLeo/Analises/Pycharm/contas/26 - José Paulo Backes/\n",
      "Copiado com sucesso!\n",
      "\n",
      "26 - José Pa \\ 26 - José Pa \\ C:\\Dev\\GitsLeo\\Analises\\Pycharm\\organizar\\26 - José Paulo Backes - 2019-01.pdf \\ C:/Dev/GitsLeo/Analises/Pycharm/contas/26 - José Paulo Backes/\n",
      "Copiado com sucesso!\n",
      "\n",
      "26 - José Pa \\ 26 - José Pa \\ C:\\Dev\\GitsLeo\\Analises\\Pycharm\\organizar\\26 - José Paulo Backes - 2019-02.pdf \\ C:/Dev/GitsLeo/Analises/Pycharm/contas/26 - José Paulo Backes/\n",
      "Copiado com sucesso!\n",
      "\n",
      "26 - José Pa \\ 26 - José Pa \\ C:\\Dev\\GitsLeo\\Analises\\Pycharm\\organizar\\26 - José Paulo Backes - 2019-03.pdf \\ C:/Dev/GitsLeo/Analises/Pycharm/contas/26 - José Paulo Backes/\n",
      "Copiado com sucesso!\n",
      "\n",
      "26 - José Pa \\ 26 - José Pa \\ C:\\Dev\\GitsLeo\\Analises\\Pycharm\\organizar\\26 - José Paulo Backes - 2019-04.pdf \\ C:/Dev/GitsLeo/Analises/Pycharm/contas/26 - José Paulo Backes/\n",
      "Copiado com sucesso!\n",
      "\n",
      "26 - José Pa \\ 26 - José Pa \\ C:\\Dev\\GitsLeo\\Analises\\Pycharm\\organizar\\26 - José Paulo Backes - 2019-05.pdf \\ C:/Dev/GitsLeo/Analises/Pycharm/contas/26 - José Paulo Backes/\n",
      "Copiado com sucesso!\n",
      "\n",
      "26 - José Pa \\ 26 - José Pa \\ C:\\Dev\\GitsLeo\\Analises\\Pycharm\\organizar\\26 - José Paulo Backes - 2019-06.pdf \\ C:/Dev/GitsLeo/Analises/Pycharm/contas/26 - José Paulo Backes/\n",
      "Copiado com sucesso!\n",
      "\n",
      "26 - José Pa \\ 26 - José Pa \\ C:\\Dev\\GitsLeo\\Analises\\Pycharm\\organizar\\26 - José Paulo Backes - 2019-07.pdf \\ C:/Dev/GitsLeo/Analises/Pycharm/contas/26 - José Paulo Backes/\n",
      "Copiado com sucesso!\n",
      "\n",
      "26 - José Pa \\ 26 - José Pa \\ C:\\Dev\\GitsLeo\\Analises\\Pycharm\\organizar\\26 - José Paulo Backes - 2019-08.pdf \\ C:/Dev/GitsLeo/Analises/Pycharm/contas/26 - José Paulo Backes/\n",
      "Copiado com sucesso!\n",
      "\n",
      "26 - José Pa \\ 26 - José Pa \\ C:\\Dev\\GitsLeo\\Analises\\Pycharm\\organizar\\26 - José Paulo Backes - 2019-09.pdf \\ C:/Dev/GitsLeo/Analises/Pycharm/contas/26 - José Paulo Backes/\n",
      "Copiado com sucesso!\n",
      "\n",
      "30 - Daniela \\ 30 - Daniela \\ C:\\Dev\\GitsLeo\\Analises\\Pycharm\\organizar\\30 - Daniela Donadel Massalai - 2019-03.pdf \\ C:/Dev/GitsLeo/Analises/Pycharm/contas/30 - Daniela Donadel Massalai/\n",
      "Copiado com sucesso!\n",
      "\n",
      "30 - Daniela \\ 30 - Daniela \\ C:\\Dev\\GitsLeo\\Analises\\Pycharm\\organizar\\30 - Daniela Donadel Massalai - 2019-04.pdf \\ C:/Dev/GitsLeo/Analises/Pycharm/contas/30 - Daniela Donadel Massalai/\n",
      "Copiado com sucesso!\n",
      "\n",
      "30 - Daniela \\ 30 - Daniela \\ C:\\Dev\\GitsLeo\\Analises\\Pycharm\\organizar\\30 - Daniela Donadel Massalai - 2019-05.pdf \\ C:/Dev/GitsLeo/Analises/Pycharm/contas/30 - Daniela Donadel Massalai/\n",
      "Copiado com sucesso!\n",
      "\n",
      "30 - Daniela \\ 30 - Daniela \\ C:\\Dev\\GitsLeo\\Analises\\Pycharm\\organizar\\30 - Daniela Donadel Massalai - 2019-06.pdf \\ C:/Dev/GitsLeo/Analises/Pycharm/contas/30 - Daniela Donadel Massalai/\n",
      "Copiado com sucesso!\n",
      "\n",
      "30 - Daniela \\ 30 - Daniela \\ C:\\Dev\\GitsLeo\\Analises\\Pycharm\\organizar\\30 - Daniela Donadel Massalai - 2019-07.pdf \\ C:/Dev/GitsLeo/Analises/Pycharm/contas/30 - Daniela Donadel Massalai/\n",
      "Copiado com sucesso!\n",
      "\n",
      "30 - Daniela \\ 30 - Daniela \\ C:\\Dev\\GitsLeo\\Analises\\Pycharm\\organizar\\30 - Daniela Donadel Massalai - 2019-08.pdf \\ C:/Dev/GitsLeo/Analises/Pycharm/contas/30 - Daniela Donadel Massalai/\n",
      "Copiado com sucesso!\n",
      "\n",
      "30 - Daniela \\ 30 - Daniela \\ C:\\Dev\\GitsLeo\\Analises\\Pycharm\\organizar\\30 - Daniela Donadel Massalai - 2019-09.pdf \\ C:/Dev/GitsLeo/Analises/Pycharm/contas/30 - Daniela Donadel Massalai/\n",
      "Copiado com sucesso!\n",
      "\n",
      "30 - Daniela \\ 30 - Daniela \\ C:\\Dev\\GitsLeo\\Analises\\Pycharm\\organizar\\30 - Daniela Donadel Massalai - 2019-10.pdf \\ C:/Dev/GitsLeo/Analises/Pycharm/contas/30 - Daniela Donadel Massalai/\n",
      "Copiado com sucesso!\n",
      "\n",
      "31 - Comerci \\ 31 - Comerci \\ C:\\Dev\\GitsLeo\\Analises\\Pycharm\\organizar\\31 - Comercio De Moto Peças Irmãos Guarani Ltda - 2019-03.pdf \\ C:/Dev/GitsLeo/Analises/Pycharm/contas/31 - Comercio De Moto Peças Irmãos Guarani Ltda/\n",
      "Copiado com sucesso!\n",
      "\n",
      "31 - Comerci \\ 31 - Comerci \\ C:\\Dev\\GitsLeo\\Analises\\Pycharm\\organizar\\31 - Comercio De Moto Peças Irmãos Guarani Ltda - 2019-04.pdf \\ C:/Dev/GitsLeo/Analises/Pycharm/contas/31 - Comercio De Moto Peças Irmãos Guarani Ltda/\n",
      "Copiado com sucesso!\n",
      "\n",
      "31 - Comerci \\ 31 - Comerci \\ C:\\Dev\\GitsLeo\\Analises\\Pycharm\\organizar\\31 - Comercio De Moto Peças Irmãos Guarani Ltda - 2019-05.pdf \\ C:/Dev/GitsLeo/Analises/Pycharm/contas/31 - Comercio De Moto Peças Irmãos Guarani Ltda/\n",
      "Copiado com sucesso!\n",
      "\n",
      "31 - Comerci \\ 31 - Comerci \\ C:\\Dev\\GitsLeo\\Analises\\Pycharm\\organizar\\31 - Comercio De Moto Peças Irmãos Guarani Ltda - 2019-06.pdf \\ C:/Dev/GitsLeo/Analises/Pycharm/contas/31 - Comercio De Moto Peças Irmãos Guarani Ltda/\n",
      "Copiado com sucesso!\n",
      "\n",
      "31 - Comerci \\ 31 - Comerci \\ C:\\Dev\\GitsLeo\\Analises\\Pycharm\\organizar\\31 - Comercio De Moto Peças Irmãos Guarani Ltda - 2019-07.pdf \\ C:/Dev/GitsLeo/Analises/Pycharm/contas/31 - Comercio De Moto Peças Irmãos Guarani Ltda/\n",
      "Copiado com sucesso!\n",
      "\n",
      "31 - Comerci \\ 31 - Comerci \\ C:\\Dev\\GitsLeo\\Analises\\Pycharm\\organizar\\31 - Comercio De Moto Peças Irmãos Guarani Ltda - 2019-08.pdf \\ C:/Dev/GitsLeo/Analises/Pycharm/contas/31 - Comercio De Moto Peças Irmãos Guarani Ltda/\n",
      "Copiado com sucesso!\n",
      "\n",
      "31 - Comerci \\ 31 - Comerci \\ C:\\Dev\\GitsLeo\\Analises\\Pycharm\\organizar\\31 - Comercio De Moto Peças Irmãos Guarani Ltda - 2019-09.pdf \\ C:/Dev/GitsLeo/Analises/Pycharm/contas/31 - Comercio De Moto Peças Irmãos Guarani Ltda/\n",
      "Copiado com sucesso!\n",
      "\n",
      "31 - Comerci \\ 31 - Comerci \\ C:\\Dev\\GitsLeo\\Analises\\Pycharm\\organizar\\31 - Comercio De Moto Peças Irmãos Guarani Ltda - 2019-10.pdf \\ C:/Dev/GitsLeo/Analises/Pycharm/contas/31 - Comercio De Moto Peças Irmãos Guarani Ltda/\n",
      "Copiado com sucesso!\n",
      "\n",
      "32 - Maurici \\ 32 - Maurici \\ C:\\Dev\\GitsLeo\\Analises\\Pycharm\\organizar\\32 - Mauricio Luis Lunardi - 2019-03.pdf \\ C:/Dev/GitsLeo/Analises/Pycharm/contas/32 - Mauricio Luis Lunardi/\n",
      "Copiado com sucesso!\n",
      "\n",
      "32 - Maurici \\ 32 - Maurici \\ C:\\Dev\\GitsLeo\\Analises\\Pycharm\\organizar\\32 - Mauricio Luis Lunardi - 2019-04.pdf \\ C:/Dev/GitsLeo/Analises/Pycharm/contas/32 - Mauricio Luis Lunardi/\n",
      "Copiado com sucesso!\n"
     ]
    },
    {
     "name": "stdout",
     "output_type": "stream",
     "text": [
      "\n",
      "32 - Maurici \\ 32 - Maurici \\ C:\\Dev\\GitsLeo\\Analises\\Pycharm\\organizar\\32 - Mauricio Luis Lunardi - 2019-05.pdf \\ C:/Dev/GitsLeo/Analises/Pycharm/contas/32 - Mauricio Luis Lunardi/\n",
      "Copiado com sucesso!\n",
      "\n",
      "32 - Maurici \\ 32 - Maurici \\ C:\\Dev\\GitsLeo\\Analises\\Pycharm\\organizar\\32 - Mauricio Luis Lunardi - 2019-06.pdf \\ C:/Dev/GitsLeo/Analises/Pycharm/contas/32 - Mauricio Luis Lunardi/\n",
      "Copiado com sucesso!\n",
      "\n",
      "32 - Maurici \\ 32 - Maurici \\ C:\\Dev\\GitsLeo\\Analises\\Pycharm\\organizar\\32 - Mauricio Luis Lunardi - 2019-07.pdf \\ C:/Dev/GitsLeo/Analises/Pycharm/contas/32 - Mauricio Luis Lunardi/\n",
      "Copiado com sucesso!\n",
      "\n",
      "32 - Maurici \\ 32 - Maurici \\ C:\\Dev\\GitsLeo\\Analises\\Pycharm\\organizar\\32 - Mauricio Luis Lunardi - 2019-08.pdf \\ C:/Dev/GitsLeo/Analises/Pycharm/contas/32 - Mauricio Luis Lunardi/\n",
      "Copiado com sucesso!\n",
      "\n",
      "32 - Maurici \\ 32 - Maurici \\ C:\\Dev\\GitsLeo\\Analises\\Pycharm\\organizar\\32 - Mauricio Luis Lunardi - 2019-09.pdf \\ C:/Dev/GitsLeo/Analises/Pycharm/contas/32 - Mauricio Luis Lunardi/\n",
      "Copiado com sucesso!\n",
      "\n",
      "32 - Maurici \\ 32 - Maurici \\ C:\\Dev\\GitsLeo\\Analises\\Pycharm\\organizar\\32 - Mauricio Luis Lunardi - 2019-10.pdf \\ C:/Dev/GitsLeo/Analises/Pycharm/contas/32 - Mauricio Luis Lunardi/\n",
      "Copiado com sucesso!\n",
      "\n",
      "33 - Rosa Ma \\ 33 - Rosa Ma \\ C:\\Dev\\GitsLeo\\Analises\\Pycharm\\organizar\\33 - Rosa Maria Restle Radunz - 2019-02.pdf \\ C:/Dev/GitsLeo/Analises/Pycharm/contas/33 - Rosa Maria Restle Radunz/\n",
      "Copiado com sucesso!\n",
      "\n",
      "33 - Rosa Ma \\ 33 - Rosa Ma \\ C:\\Dev\\GitsLeo\\Analises\\Pycharm\\organizar\\33 - Rosa Maria Restle Radunz - 2019-03.pdf \\ C:/Dev/GitsLeo/Analises/Pycharm/contas/33 - Rosa Maria Restle Radunz/\n",
      "Copiado com sucesso!\n",
      "\n",
      "33 - Rosa Ma \\ 33 - Rosa Ma \\ C:\\Dev\\GitsLeo\\Analises\\Pycharm\\organizar\\33 - Rosa Maria Restle Radunz - 2019-04.pdf \\ C:/Dev/GitsLeo/Analises/Pycharm/contas/33 - Rosa Maria Restle Radunz/\n",
      "Copiado com sucesso!\n",
      "\n",
      "33 - Rosa Ma \\ 33 - Rosa Ma \\ C:\\Dev\\GitsLeo\\Analises\\Pycharm\\organizar\\33 - Rosa Maria Restle Radunz - 2019-05.pdf \\ C:/Dev/GitsLeo/Analises/Pycharm/contas/33 - Rosa Maria Restle Radunz/\n",
      "Copiado com sucesso!\n",
      "\n",
      "33 - Rosa Ma \\ 33 - Rosa Ma \\ C:\\Dev\\GitsLeo\\Analises\\Pycharm\\organizar\\33 - Rosa Maria Restle Radunz - 2019-06 (ATUALIZADA).pdf \\ C:/Dev/GitsLeo/Analises/Pycharm/contas/33 - Rosa Maria Restle Radunz/\n",
      "Copiado com sucesso!\n",
      "\n",
      "33 - Rosa Ma \\ 33 - Rosa Ma \\ C:\\Dev\\GitsLeo\\Analises\\Pycharm\\organizar\\33 - Rosa Maria Restle Radunz - 2019-06.pdf \\ C:/Dev/GitsLeo/Analises/Pycharm/contas/33 - Rosa Maria Restle Radunz/\n",
      "Copiado com sucesso!\n",
      "\n",
      "33 - Rosa Ma \\ 33 - Rosa Ma \\ C:\\Dev\\GitsLeo\\Analises\\Pycharm\\organizar\\33 - Rosa Maria Restle Radunz - 2019-08.pdf \\ C:/Dev/GitsLeo/Analises/Pycharm/contas/33 - Rosa Maria Restle Radunz/\n",
      "Copiado com sucesso!\n",
      "\n",
      "33 - Rosa Ma \\ 33 - Rosa Ma \\ C:\\Dev\\GitsLeo\\Analises\\Pycharm\\organizar\\33 - Rosa Maria Restle Radunz - 2019-09.pdf \\ C:/Dev/GitsLeo/Analises/Pycharm/contas/33 - Rosa Maria Restle Radunz/\n",
      "Copiado com sucesso!\n",
      "\n",
      "33 - Rosa Ma \\ 33 - Rosa Ma \\ C:\\Dev\\GitsLeo\\Analises\\Pycharm\\organizar\\33 - Rosa Maria Restle Radunz - 2019-10.pdf \\ C:/Dev/GitsLeo/Analises/Pycharm/contas/33 - Rosa Maria Restle Radunz/\n",
      "Copiado com sucesso!\n",
      "\n",
      "34 - Ivo Ama \\ 34 - Ivo Ama \\ C:\\Dev\\GitsLeo\\Analises\\Pycharm\\organizar\\34 - Ivo Amaral De Oliveira - 2019-04.pdf \\ C:/Dev/GitsLeo/Analises/Pycharm/contas/34 - Ivo Amaral De Oliveira/\n",
      "Copiado com sucesso!\n",
      "\n",
      "34 - Ivo Ama \\ 34 - Ivo Ama \\ C:\\Dev\\GitsLeo\\Analises\\Pycharm\\organizar\\34 - Ivo Amaral De Oliveira - 2019-05.pdf \\ C:/Dev/GitsLeo/Analises/Pycharm/contas/34 - Ivo Amaral De Oliveira/\n",
      "Copiado com sucesso!\n",
      "\n",
      "34 - Ivo Ama \\ 34 - Ivo Ama \\ C:\\Dev\\GitsLeo\\Analises\\Pycharm\\organizar\\34 - Ivo Amaral De Oliveira - 2019-06.pdf \\ C:/Dev/GitsLeo/Analises/Pycharm/contas/34 - Ivo Amaral De Oliveira/\n",
      "Copiado com sucesso!\n",
      "\n",
      "34 - Ivo Ama \\ 34 - Ivo Ama \\ C:\\Dev\\GitsLeo\\Analises\\Pycharm\\organizar\\34 - Ivo Amaral De Oliveira - 2019-07.pdf \\ C:/Dev/GitsLeo/Analises/Pycharm/contas/34 - Ivo Amaral De Oliveira/\n",
      "Copiado com sucesso!\n",
      "\n",
      "34 - Ivo Ama \\ 34 - Ivo Ama \\ C:\\Dev\\GitsLeo\\Analises\\Pycharm\\organizar\\34 - Ivo Amaral De Oliveira - 2019-08.pdf \\ C:/Dev/GitsLeo/Analises/Pycharm/contas/34 - Ivo Amaral De Oliveira/\n",
      "Copiado com sucesso!\n",
      "\n",
      "34 - Ivo Ama \\ 34 - Ivo Ama \\ C:\\Dev\\GitsLeo\\Analises\\Pycharm\\organizar\\34 - Ivo Amaral De Oliveira - 2019-09.pdf \\ C:/Dev/GitsLeo/Analises/Pycharm/contas/34 - Ivo Amaral De Oliveira/\n",
      "Copiado com sucesso!\n",
      "\n",
      "34 - Ivo Ama \\ 34 - Ivo Ama \\ C:\\Dev\\GitsLeo\\Analises\\Pycharm\\organizar\\34 - Ivo Amaral De Oliveira - 2019-10.pdf \\ C:/Dev/GitsLeo/Analises/Pycharm/contas/34 - Ivo Amaral De Oliveira/\n",
      "Copiado com sucesso!\n",
      "\n",
      "35 - Silvio  \\ 35 - Silvio  \\ C:\\Dev\\GitsLeo\\Analises\\Pycharm\\organizar\\35 - Silvio Robert Lemos Avila - 2019-03.pdf \\ C:/Dev/GitsLeo/Analises/Pycharm/contas/35 - Silvio Robert Lemos Avila/\n",
      "Copiado com sucesso!\n",
      "\n",
      "35 - Silvio  \\ 35 - Silvio  \\ C:\\Dev\\GitsLeo\\Analises\\Pycharm\\organizar\\35 - Silvio Robert Lemos Avila - 2019-04.pdf \\ C:/Dev/GitsLeo/Analises/Pycharm/contas/35 - Silvio Robert Lemos Avila/\n",
      "Copiado com sucesso!\n",
      "\n",
      "35 - Silvio  \\ 35 - Silvio  \\ C:\\Dev\\GitsLeo\\Analises\\Pycharm\\organizar\\35 - Silvio Robert Lemos Avila - 2019-05.pdf \\ C:/Dev/GitsLeo/Analises/Pycharm/contas/35 - Silvio Robert Lemos Avila/\n",
      "Copiado com sucesso!\n",
      "\n",
      "35 - Silvio  \\ 35 - Silvio  \\ C:\\Dev\\GitsLeo\\Analises\\Pycharm\\organizar\\35 - Silvio Robert Lemos Avila - 2019-06.pdf \\ C:/Dev/GitsLeo/Analises/Pycharm/contas/35 - Silvio Robert Lemos Avila/\n",
      "Copiado com sucesso!\n",
      "\n",
      "35 - Silvio  \\ 35 - Silvio  \\ C:\\Dev\\GitsLeo\\Analises\\Pycharm\\organizar\\35 - Silvio Robert Lemos Avila - 2019-07.pdf \\ C:/Dev/GitsLeo/Analises/Pycharm/contas/35 - Silvio Robert Lemos Avila/\n",
      "Copiado com sucesso!\n",
      "\n",
      "35 - Silvio  \\ 35 - Silvio  \\ C:\\Dev\\GitsLeo\\Analises\\Pycharm\\organizar\\35 - Silvio Robert Lemos Avila - 2019-08.pdf \\ C:/Dev/GitsLeo/Analises/Pycharm/contas/35 - Silvio Robert Lemos Avila/\n",
      "Copiado com sucesso!\n",
      "\n",
      "35 - Silvio  \\ 35 - Silvio  \\ C:\\Dev\\GitsLeo\\Analises\\Pycharm\\organizar\\35 - Silvio Robert Lemos Avila - 2019-09.pdf \\ C:/Dev/GitsLeo/Analises/Pycharm/contas/35 - Silvio Robert Lemos Avila/\n",
      "Copiado com sucesso!\n",
      "\n",
      "35 - Silvio  \\ 35 - Silvio  \\ C:\\Dev\\GitsLeo\\Analises\\Pycharm\\organizar\\35 - Silvio Robert Lemos Avila - 2019-10.pdf \\ C:/Dev/GitsLeo/Analises/Pycharm/contas/35 - Silvio Robert Lemos Avila/\n",
      "Copiado com sucesso!\n",
      "\n",
      "42 - Aabb -  \\ 42 - Aabb \\ C:\\Dev\\GitsLeo\\Analises\\Pycharm\\organizar\\42 - Aabb - UC 01 - 2019-04.pdf \\ C:/Dev/GitsLeo/Analises/Pycharm/contas/42 - Aabb/\n",
      "Copiado com sucesso!\n",
      "\n",
      "42 - Aabb -  \\ 42 - Aabb \\ C:\\Dev\\GitsLeo\\Analises\\Pycharm\\organizar\\42 - Aabb - UC 01 - 2019-05.pdf \\ C:/Dev/GitsLeo/Analises/Pycharm/contas/42 - Aabb/\n",
      "Copiado com sucesso!\n",
      "\n",
      "42 - Aabb -  \\ 42 - Aabb \\ C:\\Dev\\GitsLeo\\Analises\\Pycharm\\organizar\\42 - Aabb - UC 01 - 2019-06.pdf \\ C:/Dev/GitsLeo/Analises/Pycharm/contas/42 - Aabb/\n",
      "Copiado com sucesso!\n",
      "\n",
      "42 - Aabb -  \\ 42 - Aabb \\ C:\\Dev\\GitsLeo\\Analises\\Pycharm\\organizar\\42 - Aabb - UC 01 - 2019-07.pdf \\ C:/Dev/GitsLeo/Analises/Pycharm/contas/42 - Aabb/\n",
      "Copiado com sucesso!\n",
      "\n",
      "42 - Aabb -  \\ 42 - Aabb \\ C:\\Dev\\GitsLeo\\Analises\\Pycharm\\organizar\\42 - Aabb - UC 01 - 2019-08.pdf \\ C:/Dev/GitsLeo/Analises/Pycharm/contas/42 - Aabb/\n",
      "Copiado com sucesso!\n",
      "\n",
      "42 - Aabb -  \\ 42 - Aabb \\ C:\\Dev\\GitsLeo\\Analises\\Pycharm\\organizar\\42 - Aabb - UC 01 - 2019-09.pdf \\ C:/Dev/GitsLeo/Analises/Pycharm/contas/42 - Aabb/\n",
      "Copiado com sucesso!\n",
      "\n",
      "42 - Aabb -  \\ 42 - Aabb \\ C:\\Dev\\GitsLeo\\Analises\\Pycharm\\organizar\\42 - Aabb - UC 01 - 2019-10.pdf \\ C:/Dev/GitsLeo/Analises/Pycharm/contas/42 - Aabb/\n",
      "Copiado com sucesso!\n",
      "\n",
      "42 - Aabb -  \\ 42 - Aabb \\ C:\\Dev\\GitsLeo\\Analises\\Pycharm\\organizar\\42 - Aabb - UC 02 - 2019-04.pdf \\ C:/Dev/GitsLeo/Analises/Pycharm/contas/42 - Aabb/\n",
      "Copiado com sucesso!\n",
      "\n",
      "42 - Aabb -  \\ 42 - Aabb \\ C:\\Dev\\GitsLeo\\Analises\\Pycharm\\organizar\\42 - Aabb - UC 02 - 2019-05(2).pdf \\ C:/Dev/GitsLeo/Analises/Pycharm/contas/42 - Aabb/\n",
      "Copiado com sucesso!\n",
      "\n",
      "42 - Aabb -  \\ 42 - Aabb \\ C:\\Dev\\GitsLeo\\Analises\\Pycharm\\organizar\\42 - Aabb - UC 02 - 2019-05.pdf \\ C:/Dev/GitsLeo/Analises/Pycharm/contas/42 - Aabb/\n",
      "Copiado com sucesso!\n",
      "\n",
      "42 - Aabb -  \\ 42 - Aabb \\ C:\\Dev\\GitsLeo\\Analises\\Pycharm\\organizar\\42 - Aabb - UC 02 - 2019-06.pdf \\ C:/Dev/GitsLeo/Analises/Pycharm/contas/42 - Aabb/\n",
      "Copiado com sucesso!\n",
      "\n",
      "42 - Aabb -  \\ 42 - Aabb \\ C:\\Dev\\GitsLeo\\Analises\\Pycharm\\organizar\\42 - Aabb - UC 02 - 2019-07.pdf \\ C:/Dev/GitsLeo/Analises/Pycharm/contas/42 - Aabb/\n",
      "Copiado com sucesso!\n",
      "\n",
      "42 - Aabb -  \\ 42 - Aabb \\ C:\\Dev\\GitsLeo\\Analises\\Pycharm\\organizar\\42 - Aabb - UC 02 - 2019-08.pdf \\ C:/Dev/GitsLeo/Analises/Pycharm/contas/42 - Aabb/\n",
      "Copiado com sucesso!\n",
      "\n",
      "42 - Aabb -  \\ 42 - Aabb \\ C:\\Dev\\GitsLeo\\Analises\\Pycharm\\organizar\\42 - Aabb - UC 02 - 2019-09.pdf \\ C:/Dev/GitsLeo/Analises/Pycharm/contas/42 - Aabb/\n",
      "Copiado com sucesso!\n",
      "\n",
      "42 - Aabb -  \\ 42 - Aabb \\ C:\\Dev\\GitsLeo\\Analises\\Pycharm\\organizar\\42 - Aabb - UC 02 - 2019-10.pdf \\ C:/Dev/GitsLeo/Analises/Pycharm/contas/42 - Aabb/\n",
      "Copiado com sucesso!\n",
      "\n",
      "44 - Silvio  \\ 44 - Silvio  \\ C:\\Dev\\GitsLeo\\Analises\\Pycharm\\organizar\\44 - Silvio Robert Lemos Avila Me - 2019-06.pdf \\ C:/Dev/GitsLeo/Analises/Pycharm/contas/44 - Silvio Robert Lemos Avila Me/\n",
      "Copiado com sucesso!\n",
      "\n",
      "44 - Silvio  \\ 44 - Silvio  \\ C:\\Dev\\GitsLeo\\Analises\\Pycharm\\organizar\\44 - Silvio Robert Lemos Avila Me - 2019-07.pdf \\ C:/Dev/GitsLeo/Analises/Pycharm/contas/44 - Silvio Robert Lemos Avila Me/\n",
      "Copiado com sucesso!\n",
      "\n",
      "44 - Silvio  \\ 44 - Silvio  \\ C:\\Dev\\GitsLeo\\Analises\\Pycharm\\organizar\\44 - Silvio Robert Lemos Avila Me - 2019-08.pdf \\ C:/Dev/GitsLeo/Analises/Pycharm/contas/44 - Silvio Robert Lemos Avila Me/\n",
      "Copiado com sucesso!\n",
      "\n",
      "44 - Silvio  \\ 44 - Silvio  \\ C:\\Dev\\GitsLeo\\Analises\\Pycharm\\organizar\\44 - Silvio Robert Lemos Avila Me - 2019-09.pdf \\ C:/Dev/GitsLeo/Analises/Pycharm/contas/44 - Silvio Robert Lemos Avila Me/\n",
      "Copiado com sucesso!\n",
      "\n",
      "44 - Silvio  \\ 44 - Silvio  \\ C:\\Dev\\GitsLeo\\Analises\\Pycharm\\organizar\\44 - Silvio Robert Lemos Avila Me - 2019-10.pdf \\ C:/Dev/GitsLeo/Analises/Pycharm/contas/44 - Silvio Robert Lemos Avila Me/\n",
      "Copiado com sucesso!\n",
      "\n"
     ]
    },
    {
     "name": "stdout",
     "output_type": "stream",
     "text": [
      "45 - Carmelo \\ 45 - Carmelo \\ C:\\Dev\\GitsLeo\\Analises\\Pycharm\\organizar\\45 - Carmelo - 2019-06.pdf \\ C:/Dev/GitsLeo/Analises/Pycharm/contas/45 - Carmelo/\n",
      "Copiado com sucesso!\n",
      "\n",
      "45 - Carmelo \\ 45 - Carmelo \\ C:\\Dev\\GitsLeo\\Analises\\Pycharm\\organizar\\45 - Carmelo - 2019-07.pdf \\ C:/Dev/GitsLeo/Analises/Pycharm/contas/45 - Carmelo/\n",
      "Copiado com sucesso!\n",
      "\n",
      "45 - Carmelo \\ 45 - Carmelo \\ C:\\Dev\\GitsLeo\\Analises\\Pycharm\\organizar\\45 - Carmelo - 2019-08.pdf \\ C:/Dev/GitsLeo/Analises/Pycharm/contas/45 - Carmelo/\n",
      "Copiado com sucesso!\n",
      "\n",
      "45 - Carmelo \\ 45 - Carmelo \\ C:\\Dev\\GitsLeo\\Analises\\Pycharm\\organizar\\45 - Carmelo - 2019-09.pdf \\ C:/Dev/GitsLeo/Analises/Pycharm/contas/45 - Carmelo/\n",
      "Copiado com sucesso!\n",
      "\n",
      "45 - Carmelo \\ 45 - Carmelo \\ C:\\Dev\\GitsLeo\\Analises\\Pycharm\\organizar\\45 - Carmelo - 2019-10.pdf \\ C:/Dev/GitsLeo/Analises/Pycharm/contas/45 - Carmelo/\n",
      "Copiado com sucesso!\n",
      "\n",
      "46 - Antonio \\ 46 - Antonio \\ C:\\Dev\\GitsLeo\\Analises\\Pycharm\\organizar\\46 - Antonio Dal Forno - 2019-06.pdf \\ C:/Dev/GitsLeo/Analises/Pycharm/contas/46 - Antonio Dal Forno/\n",
      "Copiado com sucesso!\n",
      "\n",
      "46 - Antonio \\ 46 - Antonio \\ C:\\Dev\\GitsLeo\\Analises\\Pycharm\\organizar\\46 - Antonio Dal Forno - 2019-07.pdf \\ C:/Dev/GitsLeo/Analises/Pycharm/contas/46 - Antonio Dal Forno/\n",
      "Copiado com sucesso!\n",
      "\n",
      "46 - Antonio \\ 46 - Antonio \\ C:\\Dev\\GitsLeo\\Analises\\Pycharm\\organizar\\46 - Antonio Dal Forno - 2019-08.pdf \\ C:/Dev/GitsLeo/Analises/Pycharm/contas/46 - Antonio Dal Forno/\n",
      "Copiado com sucesso!\n",
      "\n",
      "46 - Antonio \\ 46 - Antonio \\ C:\\Dev\\GitsLeo\\Analises\\Pycharm\\organizar\\46 - Antonio Dal Forno - 2019-09.pdf \\ C:/Dev/GitsLeo/Analises/Pycharm/contas/46 - Antonio Dal Forno/\n",
      "Copiado com sucesso!\n",
      "\n",
      "46 - Antonio \\ 46 - Antonio \\ C:\\Dev\\GitsLeo\\Analises\\Pycharm\\organizar\\46 - Antonio Dal Forno - 2019-10.pdf \\ C:/Dev/GitsLeo/Analises/Pycharm/contas/46 - Antonio Dal Forno/\n",
      "Copiado com sucesso!\n",
      "\n",
      "47 - Marisan \\ 47 - Marisan \\ C:\\Dev\\GitsLeo\\Analises\\Pycharm\\organizar\\47 - Marisane Paulus - 2019-08.pdf \\ C:/Dev/GitsLeo/Analises/Pycharm/contas/47 - Marisane Paulus/\n",
      "Copiado com sucesso!\n",
      "\n",
      "47 - Marisan \\ 47 - Marisan \\ C:\\Dev\\GitsLeo\\Analises\\Pycharm\\organizar\\47 - Marisane Paulus - 2019-09.pdf \\ C:/Dev/GitsLeo/Analises/Pycharm/contas/47 - Marisane Paulus/\n",
      "Copiado com sucesso!\n",
      "\n",
      "47 - Marisan \\ 47 - Marisan \\ C:\\Dev\\GitsLeo\\Analises\\Pycharm\\organizar\\47 - Marisane Paulus - 2019-10.pdf \\ C:/Dev/GitsLeo/Analises/Pycharm/contas/47 - Marisane Paulus/\n",
      "Copiado com sucesso!\n",
      "\n",
      "47 - Marisan \\ 47 - Marisan \\ C:\\Dev\\GitsLeo\\Analises\\Pycharm\\organizar\\47 - Marisane Paulus.pdf \\ C:/Dev/GitsLeo/Analises/Pycharm/contas/47 - Marisane Paulus/\n",
      "Copiado com sucesso!\n",
      "\n",
      "48 - Segatto \\ 48 - Segatto \\ C:\\Dev\\GitsLeo\\Analises\\Pycharm\\organizar\\48 - Segatto Ceretta Ltda - UC 1 - 2019-05 - VAI MANTER.pdf \\ C:/Dev/GitsLeo/Analises/Pycharm/contas/48 - Segatto Ceretta Ltda/\n",
      "Copiado com sucesso!\n",
      "\n",
      "48 - Segatto \\ 48 - Segatto \\ C:\\Dev\\GitsLeo\\Analises\\Pycharm\\organizar\\48 - Segatto Ceretta Ltda - UC 1 - 2019-06.pdf \\ C:/Dev/GitsLeo/Analises/Pycharm/contas/48 - Segatto Ceretta Ltda/\n",
      "Copiado com sucesso!\n",
      "\n",
      "48 - Segatto \\ 48 - Segatto \\ C:\\Dev\\GitsLeo\\Analises\\Pycharm\\organizar\\48 - Segatto Ceretta Ltda - UC 1 - 2019-07.pdf \\ C:/Dev/GitsLeo/Analises/Pycharm/contas/48 - Segatto Ceretta Ltda/\n",
      "Copiado com sucesso!\n",
      "\n",
      "48 - Segatto \\ 48 - Segatto \\ C:\\Dev\\GitsLeo\\Analises\\Pycharm\\organizar\\48 - Segatto Ceretta Ltda - UC 1 - 2019-08.pdf \\ C:/Dev/GitsLeo/Analises/Pycharm/contas/48 - Segatto Ceretta Ltda/\n",
      "Copiado com sucesso!\n",
      "\n",
      "48 - Segatto \\ 48 - Segatto \\ C:\\Dev\\GitsLeo\\Analises\\Pycharm\\organizar\\48 - Segatto Ceretta Ltda - UC 1 - 2019-09.pdf \\ C:/Dev/GitsLeo/Analises/Pycharm/contas/48 - Segatto Ceretta Ltda/\n",
      "Copiado com sucesso!\n",
      "\n",
      "48 - Segatto \\ 48 - Segatto \\ C:\\Dev\\GitsLeo\\Analises\\Pycharm\\organizar\\48 - Segatto Ceretta Ltda - UC 1 - 2019-10.pdf \\ C:/Dev/GitsLeo/Analises/Pycharm/contas/48 - Segatto Ceretta Ltda/\n",
      "Copiado com sucesso!\n",
      "\n",
      "48 - Segatto \\ 48 - Segatto \\ C:\\Dev\\GitsLeo\\Analises\\Pycharm\\organizar\\48 - Segatto Ceretta Ltda - UC 2 - 2019-05 - DESLIGADA.pdf \\ C:/Dev/GitsLeo/Analises/Pycharm/contas/48 - Segatto Ceretta Ltda/\n",
      "Copiado com sucesso!\n",
      "\n",
      "48 - Segatto \\ 48 - Segatto \\ C:\\Dev\\GitsLeo\\Analises\\Pycharm\\organizar\\48 - Segatto Ceretta Ltda - UC 2 - 2019-07.pdf \\ C:/Dev/GitsLeo/Analises/Pycharm/contas/48 - Segatto Ceretta Ltda/\n",
      "Copiado com sucesso!\n",
      "\n",
      "48 - Segatto \\ 48 - Segatto \\ C:\\Dev\\GitsLeo\\Analises\\Pycharm\\organizar\\48 - Segatto Ceretta Ltda - UC 2 - 2019-08.pdf \\ C:/Dev/GitsLeo/Analises/Pycharm/contas/48 - Segatto Ceretta Ltda/\n",
      "Copiado com sucesso!\n",
      "\n",
      "49 - Apae -  \\ 49 - Apae \\ C:\\Dev\\GitsLeo\\Analises\\Pycharm\\organizar\\49 - Apae - UC 01 - 2019 - 06.pdf \\ C:/Dev/GitsLeo/Analises/Pycharm/contas/49 - Apae/\n",
      "Copiado com sucesso!\n",
      "\n",
      "49 - Apae -  \\ 49 - Apae \\ C:\\Dev\\GitsLeo\\Analises\\Pycharm\\organizar\\49 - Apae - UC 01 - 2019 - 07.pdf \\ C:/Dev/GitsLeo/Analises/Pycharm/contas/49 - Apae/\n",
      "Copiado com sucesso!\n",
      "\n",
      "49 - Apae -  \\ 49 - Apae \\ C:\\Dev\\GitsLeo\\Analises\\Pycharm\\organizar\\49 - Apae - UC 01 - 2019 - 08.pdf \\ C:/Dev/GitsLeo/Analises/Pycharm/contas/49 - Apae/\n",
      "Copiado com sucesso!\n",
      "\n",
      "49 - Apae -  \\ 49 - Apae \\ C:\\Dev\\GitsLeo\\Analises\\Pycharm\\organizar\\49 - Apae - UC 01 - 2019 - 09.pdf \\ C:/Dev/GitsLeo/Analises/Pycharm/contas/49 - Apae/\n",
      "Copiado com sucesso!\n",
      "\n",
      "49 - Apae -  \\ 49 - Apae \\ C:\\Dev\\GitsLeo\\Analises\\Pycharm\\organizar\\49 - Apae - UC 01 - 2019 - 10.pdf \\ C:/Dev/GitsLeo/Analises/Pycharm/contas/49 - Apae/\n",
      "Copiado com sucesso!\n",
      "\n",
      "49 - Apae -  \\ 49 - Apae \\ C:\\Dev\\GitsLeo\\Analises\\Pycharm\\organizar\\49 - Apae - UC 02 - 2019 - 06.pdf \\ C:/Dev/GitsLeo/Analises/Pycharm/contas/49 - Apae/\n",
      "Copiado com sucesso!\n",
      "\n",
      "49 - Apae -  \\ 49 - Apae \\ C:\\Dev\\GitsLeo\\Analises\\Pycharm\\organizar\\49 - Apae - UC 02 - 2019 - 07.pdf \\ C:/Dev/GitsLeo/Analises/Pycharm/contas/49 - Apae/\n",
      "Copiado com sucesso!\n",
      "\n",
      "49 - Apae -  \\ 49 - Apae \\ C:\\Dev\\GitsLeo\\Analises\\Pycharm\\organizar\\49 - Apae - UC 02 - 2019 - 08.pdf \\ C:/Dev/GitsLeo/Analises/Pycharm/contas/49 - Apae/\n",
      "Copiado com sucesso!\n",
      "\n",
      "49 - Apae -  \\ 49 - Apae \\ C:\\Dev\\GitsLeo\\Analises\\Pycharm\\organizar\\49 - Apae - UC 02 - 2019 - 09.pdf \\ C:/Dev/GitsLeo/Analises/Pycharm/contas/49 - Apae/\n",
      "Copiado com sucesso!\n",
      "\n",
      "49 - Apae -  \\ 49 - Apae \\ C:\\Dev\\GitsLeo\\Analises\\Pycharm\\organizar\\49 - Apae - UC 02 - 2019 - 10.pdf \\ C:/Dev/GitsLeo/Analises/Pycharm/contas/49 - Apae/\n",
      "Copiado com sucesso!\n",
      "\n",
      "50 - Cássio  \\ 50 - Cássio  \\ C:\\Dev\\GitsLeo\\Analises\\Pycharm\\organizar\\50 - Cássio Burin - 2018-12.pdf \\ C:/Dev/GitsLeo/Analises/Pycharm/contas/50 - Cássio Burin/\n",
      "Copiado com sucesso!\n",
      "\n",
      "50 - Cássio  \\ 50 - Cássio  \\ C:\\Dev\\GitsLeo\\Analises\\Pycharm\\organizar\\50 - Cássio Burin - 2019-01.pdf \\ C:/Dev/GitsLeo/Analises/Pycharm/contas/50 - Cássio Burin/\n",
      "Copiado com sucesso!\n",
      "\n",
      "50 - Cássio  \\ 50 - Cássio  \\ C:\\Dev\\GitsLeo\\Analises\\Pycharm\\organizar\\50 - Cássio Burin - 2019-02.pdf \\ C:/Dev/GitsLeo/Analises/Pycharm/contas/50 - Cássio Burin/\n",
      "Copiado com sucesso!\n",
      "\n",
      "50 - Cássio  \\ 50 - Cássio  \\ C:\\Dev\\GitsLeo\\Analises\\Pycharm\\organizar\\50 - Cássio Burin - 2019-03.pdf \\ C:/Dev/GitsLeo/Analises/Pycharm/contas/50 - Cássio Burin/\n",
      "Copiado com sucesso!\n",
      "\n",
      "50 - Cássio  \\ 50 - Cássio  \\ C:\\Dev\\GitsLeo\\Analises\\Pycharm\\organizar\\50 - Cássio Burin - 2019-04.pdf \\ C:/Dev/GitsLeo/Analises/Pycharm/contas/50 - Cássio Burin/\n",
      "Copiado com sucesso!\n",
      "\n",
      "50 - Cássio  \\ 50 - Cássio  \\ C:\\Dev\\GitsLeo\\Analises\\Pycharm\\organizar\\50 - Cássio Burin - 2019-05.pdf \\ C:/Dev/GitsLeo/Analises/Pycharm/contas/50 - Cássio Burin/\n",
      "Copiado com sucesso!\n",
      "\n",
      "50 - Cássio  \\ 50 - Cássio  \\ C:\\Dev\\GitsLeo\\Analises\\Pycharm\\organizar\\50 - Cássio Burin - 2019-06.pdf \\ C:/Dev/GitsLeo/Analises/Pycharm/contas/50 - Cássio Burin/\n",
      "Copiado com sucesso!\n",
      "\n",
      "50 - Cássio  \\ 50 - Cássio  \\ C:\\Dev\\GitsLeo\\Analises\\Pycharm\\organizar\\50 - Cássio Burin - 2019-07.pdf \\ C:/Dev/GitsLeo/Analises/Pycharm/contas/50 - Cássio Burin/\n",
      "Copiado com sucesso!\n",
      "\n",
      "50 - Cássio  \\ 50 - Cássio  \\ C:\\Dev\\GitsLeo\\Analises\\Pycharm\\organizar\\50 - Cássio Burin - 2019-08.pdf \\ C:/Dev/GitsLeo/Analises/Pycharm/contas/50 - Cássio Burin/\n",
      "Copiado com sucesso!\n",
      "\n",
      "50 - Cássio  \\ 50 - Cássio  \\ C:\\Dev\\GitsLeo\\Analises\\Pycharm\\organizar\\50 - Cássio Burin - 2019-09.pdf \\ C:/Dev/GitsLeo/Analises/Pycharm/contas/50 - Cássio Burin/\n",
      "Copiado com sucesso!\n",
      "\n",
      "51 - Patrick \\ 51 - Patrick \\ C:\\Dev\\GitsLeo\\Analises\\Pycharm\\organizar\\51 - Patrick Kristoschek Da Silva - UC 01 -  2019-08.pdf \\ C:/Dev/GitsLeo/Analises/Pycharm/contas/51 - Patrick Kristoschek Da Silva/\n",
      "Copiado com sucesso!\n",
      "\n",
      "51 - Patrick \\ 51 - Patrick \\ C:\\Dev\\GitsLeo\\Analises\\Pycharm\\organizar\\51 - Patrick Kristoschek Da Silva - UC 01 -  2019-09.pdf \\ C:/Dev/GitsLeo/Analises/Pycharm/contas/51 - Patrick Kristoschek Da Silva/\n",
      "Copiado com sucesso!\n",
      "\n",
      "51 - Patrick \\ 51 - Patrick \\ C:\\Dev\\GitsLeo\\Analises\\Pycharm\\organizar\\51 - Patrick Kristoschek Da Silva - UC 02 -  2019-08.pdf \\ C:/Dev/GitsLeo/Analises/Pycharm/contas/51 - Patrick Kristoschek Da Silva/\n",
      "Copiado com sucesso!\n",
      "\n",
      "51 - Patrick \\ 51 - Patrick \\ C:\\Dev\\GitsLeo\\Analises\\Pycharm\\organizar\\51 - Patrick Kristoschek Da Silva - UC 02 -  2019-09.pdf \\ C:/Dev/GitsLeo/Analises/Pycharm/contas/51 - Patrick Kristoschek Da Silva/\n",
      "Copiado com sucesso!\n",
      "\n",
      "51 - Patrick \\ 51 - Patrick \\ C:\\Dev\\GitsLeo\\Analises\\Pycharm\\organizar\\51 - Patrick Kristoschek Da Silva - UC 02 -  2019-10.pdf \\ C:/Dev/GitsLeo/Analises/Pycharm/contas/51 - Patrick Kristoschek Da Silva/\n",
      "Copiado com sucesso!\n",
      "\n",
      "52 - Silvio  \\ 52 - Silvio  \\ C:\\Dev\\GitsLeo\\Analises\\Pycharm\\organizar\\52 - Silvio Robert Ávila - (Valmir) - 2019-08.pdf \\ C:/Dev/GitsLeo/Analises/Pycharm/contas/52 - Silvio Robert Ávila - (Valmir)/\n",
      "Copiado com sucesso!\n",
      "\n",
      "52 - Silvio  \\ 52 - Silvio  \\ C:\\Dev\\GitsLeo\\Analises\\Pycharm\\organizar\\52 - Silvio Robert Ávila - (Valmir) - 2019-09.pdf \\ C:/Dev/GitsLeo/Analises/Pycharm/contas/52 - Silvio Robert Ávila - (Valmir)/\n",
      "Copiado com sucesso!\n"
     ]
    },
    {
     "name": "stdout",
     "output_type": "stream",
     "text": [
      "\n",
      "52 - Silvio  \\ 52 - Silvio  \\ C:\\Dev\\GitsLeo\\Analises\\Pycharm\\organizar\\52 - Silvio Robert Ávila - (Valmir) - 2019-10.pdf \\ C:/Dev/GitsLeo/Analises/Pycharm/contas/52 - Silvio Robert Ávila - (Valmir)/\n",
      "Copiado com sucesso!\n",
      "\n",
      "53 - Zederso \\ 53 - Zederso \\ C:\\Dev\\GitsLeo\\Analises\\Pycharm\\organizar\\53 - Zederson Jose Della Flora - 2019-08.pdf \\ C:/Dev/GitsLeo/Analises/Pycharm/contas/53 - Zederson Jose Della Flora/\n",
      "Copiado com sucesso!\n",
      "\n",
      "53 - Zederso \\ 53 - Zederso \\ C:\\Dev\\GitsLeo\\Analises\\Pycharm\\organizar\\53 - Zederson Jose Della Flora - 2019-09.pdf \\ C:/Dev/GitsLeo/Analises/Pycharm/contas/53 - Zederson Jose Della Flora/\n",
      "Copiado com sucesso!\n",
      "\n",
      "54 - Carlos  \\ 54 - Carlos  \\ C:\\Dev\\GitsLeo\\Analises\\Pycharm\\organizar\\54 - Carlos Walmir Larsão Rolim UC 1 - 2019-09.pdf \\ C:/Dev/GitsLeo/Analises/Pycharm/contas/54 - Carlos Walmir Larsão Rolim/\n",
      "Copiado com sucesso!\n",
      "\n",
      "54 - Carlos  \\ 54 - Carlos  \\ C:\\Dev\\GitsLeo\\Analises\\Pycharm\\organizar\\54 - Carlos Walmir Larsão Rolim UC 1 - 2019-10.pdf \\ C:/Dev/GitsLeo/Analises/Pycharm/contas/54 - Carlos Walmir Larsão Rolim/\n",
      "Copiado com sucesso!\n",
      "\n",
      "55 - Danieli \\ 55 - Danieli \\ C:\\Dev\\GitsLeo\\Analises\\Pycharm\\organizar\\55 - Danieli Missio - 2019-10.pdf \\ C:/Dev/GitsLeo/Analises/Pycharm/contas/55 - Danieli Missio/\n",
      "Copiado com sucesso!\n",
      "\n"
     ]
    }
   ],
   "source": [
    "for lista in diretorios:\n",
    "    for i in files2[0]:\n",
    "        for j in files2[1]:\n",
    "            jn = j.split('\\\\')\n",
    "            if i == jn[6] and lista[:9:] == i[:9:]:\n",
    "                ondeVem = (jn[0]+'\\\\'+jn[1]+'\\\\'+jn[2]+'\\\\'+jn[3]+'\\\\'+jn[4]+'\\\\'+jn[5]+'\\\\'+jn[6])\n",
    "                destino = ('C:/Dev/GitsLeo/Analises/Pycharm/contas/'+lista+'/')\n",
    "                print(i[:12:]+' \\ '+lista[:12:]+' \\ '+ondeVem+' \\ '+ destino)\n",
    "                shutil.move(ondeVem, destino)\n",
    "                print('Copiado com sucesso!\\n')"
   ]
  },
  {
   "cell_type": "code",
   "execution_count": 41,
   "metadata": {
    "jupyter": {
     "outputs_hidden": false
    },
    "pycharm": {
     "is_executing": false,
     "name": "#%%\n"
    }
   },
   "outputs": [
    {
     "data": {
      "text/plain": [
       "'C:\\\\Dev\\\\GitsLeo\\\\Analises\\\\Pycharm\\\\organizar\\\\01 - Marlon Colovini\\\\01 - Marlon - UC 01 - 2018-02.pdf'"
      ]
     },
     "execution_count": 41,
     "metadata": {},
     "output_type": "execute_result"
    }
   ],
   "source": [
    "files3 = files_path1('./organizar/')\n",
    "files3[1][0]"
   ]
  },
  {
   "cell_type": "code",
   "execution_count": null,
   "metadata": {
    "jupyter": {
     "outputs_hidden": false
    },
    "pycharm": {
     "name": "#%%\n"
    }
   },
   "outputs": [],
   "source": [
    "for fil in files3[0]:\n",
    "    for fel in files3[1]:\n",
    "    jn = fel.split('\\\\').Title\n",
    "    if i == jn[6] and lista[:9:] == i[:9:]:\n"
   ]
  }
 ],
 "metadata": {
  "kernelspec": {
   "display_name": "Python 3",
   "language": "python",
   "name": "python3"
  },
  "language_info": {
   "codemirror_mode": {
    "name": "ipython",
    "version": 3
   },
   "file_extension": ".py",
   "mimetype": "text/x-python",
   "name": "python",
   "nbconvert_exporter": "python",
   "pygments_lexer": "ipython3",
   "version": "3.6.9"
  },
  "pycharm": {
   "stem_cell": {
    "cell_type": "raw",
    "metadata": {
     "collapsed": false
    },
    "source": []
   }
  }
 },
 "nbformat": 4,
 "nbformat_minor": 4
}
